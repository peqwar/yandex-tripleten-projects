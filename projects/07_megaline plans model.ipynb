{
 "cells": [
  {
   "cell_type": "markdown",
   "metadata": {},
   "source": [
    "# Recomendación de planes de telefonía"
   ]
  },
  {
   "cell_type": "markdown",
   "metadata": {},
   "source": [
    "La compañía móvil Megaline no está satisfecha al ver que muchos de sus clientes utilizan planes heredados. En este proyecto se desarrollará un modelo para recomendar uno de los dos nuevos planes de Megaline, Smart o Ultra, basándose en el comportamiento de los clientes.\n",
    "\n",
    "Se entrenarán distintos modelos de clasificación a partir de un conjunto de datos de clientes que ya se han cambiado a los planes nuevos. Se evaluará la calidad de los modelos generados y se seleccionará el que presente una mayor exactitud.\n",
    "\n",
    "Para los modelos de clasificación se utilizarán las funciones `DecisionTreeClassifier`, `RandomForestClassifier` y `LogisticRegression` de la librería `sklearn`.\n"
   ]
  },
  {
   "cell_type": "markdown",
   "metadata": {},
   "source": [
    "**Tabla de contenidos**<a id='toc0_'></a>    \n",
    "- [Información general](#toc1_)    \n",
    "- [Entrenamiento y evaluación de modelos](#toc2_)    \n",
    "  - [Segmentación de los datos](#toc2_1_)    \n",
    "  - [Árbol de decisión](#toc2_2_)    \n",
    "  - [Bosque Aleatorio](#toc2_3_)    \n",
    "  - [Regresión logística](#toc2_4_)    \n",
    "  - [Conclusiones](#toc2_5_)    \n",
    "- [Comprobación de la calidad del mejor modelo con el conjunto de prueba](#toc3_)    \n",
    "- [Prueba de cordura y conclusiones](#toc4_)    \n",
    "\n",
    "<!-- vscode-jupyter-toc-config\n",
    "\tnumbering=false\n",
    "\tanchor=true\n",
    "\tflat=false\n",
    "\tminLevel=2\n",
    "\tmaxLevel=6\n",
    "\t/vscode-jupyter-toc-config -->\n",
    "<!-- THIS CELL WILL BE REPLACED ON TOC UPDATE. DO NOT WRITE YOUR TEXT IN THIS CELL -->"
   ]
  },
  {
   "cell_type": "markdown",
   "metadata": {},
   "source": [
    "## <a id='toc1_'></a>[Información general](#toc0_)"
   ]
  },
  {
   "cell_type": "code",
   "execution_count": 1,
   "metadata": {},
   "outputs": [],
   "source": [
    "# Librerías\n",
    "import pandas as pd\n",
    "from sklearn.model_selection import train_test_split\n",
    "from sklearn.tree import DecisionTreeClassifier\n",
    "from sklearn.ensemble import RandomForestClassifier\n",
    "from sklearn.linear_model import LogisticRegression"
   ]
  },
  {
   "cell_type": "code",
   "execution_count": 2,
   "metadata": {},
   "outputs": [
    {
     "data": {
      "text/html": [
       "<div>\n",
       "<style scoped>\n",
       "    .dataframe tbody tr th:only-of-type {\n",
       "        vertical-align: middle;\n",
       "    }\n",
       "\n",
       "    .dataframe tbody tr th {\n",
       "        vertical-align: top;\n",
       "    }\n",
       "\n",
       "    .dataframe thead th {\n",
       "        text-align: right;\n",
       "    }\n",
       "</style>\n",
       "<table border=\"1\" class=\"dataframe\">\n",
       "  <thead>\n",
       "    <tr style=\"text-align: right;\">\n",
       "      <th></th>\n",
       "      <th>calls</th>\n",
       "      <th>minutes</th>\n",
       "      <th>messages</th>\n",
       "      <th>mb_used</th>\n",
       "      <th>is_ultra</th>\n",
       "    </tr>\n",
       "  </thead>\n",
       "  <tbody>\n",
       "    <tr>\n",
       "      <th>0</th>\n",
       "      <td>40.0</td>\n",
       "      <td>311.90</td>\n",
       "      <td>83.0</td>\n",
       "      <td>19915.42</td>\n",
       "      <td>0</td>\n",
       "    </tr>\n",
       "    <tr>\n",
       "      <th>1</th>\n",
       "      <td>85.0</td>\n",
       "      <td>516.75</td>\n",
       "      <td>56.0</td>\n",
       "      <td>22696.96</td>\n",
       "      <td>0</td>\n",
       "    </tr>\n",
       "    <tr>\n",
       "      <th>2</th>\n",
       "      <td>77.0</td>\n",
       "      <td>467.66</td>\n",
       "      <td>86.0</td>\n",
       "      <td>21060.45</td>\n",
       "      <td>0</td>\n",
       "    </tr>\n",
       "    <tr>\n",
       "      <th>3</th>\n",
       "      <td>106.0</td>\n",
       "      <td>745.53</td>\n",
       "      <td>81.0</td>\n",
       "      <td>8437.39</td>\n",
       "      <td>1</td>\n",
       "    </tr>\n",
       "    <tr>\n",
       "      <th>4</th>\n",
       "      <td>66.0</td>\n",
       "      <td>418.74</td>\n",
       "      <td>1.0</td>\n",
       "      <td>14502.75</td>\n",
       "      <td>0</td>\n",
       "    </tr>\n",
       "  </tbody>\n",
       "</table>\n",
       "</div>"
      ],
      "text/plain": [
       "   calls  minutes  messages   mb_used  is_ultra\n",
       "0   40.0   311.90      83.0  19915.42         0\n",
       "1   85.0   516.75      56.0  22696.96         0\n",
       "2   77.0   467.66      86.0  21060.45         0\n",
       "3  106.0   745.53      81.0   8437.39         1\n",
       "4   66.0   418.74       1.0  14502.75         0"
      ]
     },
     "execution_count": 2,
     "metadata": {},
     "output_type": "execute_result"
    }
   ],
   "source": [
    "# Lectura del dataset\n",
    "df = pd.read_csv('/datasets/users_behavior.csv')\n",
    "df.head()"
   ]
  },
  {
   "cell_type": "code",
   "execution_count": 3,
   "metadata": {},
   "outputs": [
    {
     "name": "stdout",
     "output_type": "stream",
     "text": [
      "<class 'pandas.core.frame.DataFrame'>\n",
      "RangeIndex: 3214 entries, 0 to 3213\n",
      "Data columns (total 5 columns):\n",
      " #   Column    Non-Null Count  Dtype  \n",
      "---  ------    --------------  -----  \n",
      " 0   calls     3214 non-null   float64\n",
      " 1   minutes   3214 non-null   float64\n",
      " 2   messages  3214 non-null   float64\n",
      " 3   mb_used   3214 non-null   float64\n",
      " 4   is_ultra  3214 non-null   int64  \n",
      "dtypes: float64(4), int64(1)\n",
      "memory usage: 125.7 KB\n"
     ]
    }
   ],
   "source": [
    "df.info()"
   ]
  },
  {
   "cell_type": "markdown",
   "metadata": {},
   "source": [
    "Los datos comprenden un conjunto de clientes que ya se cambiaron a uno de los nuevos planes, Smart o Ultra. De cada cliente se conoce el número de llamados, minutos empleados por llamada, mensajes de texto y datos de internet. Esta información será utilizada como los features de los modelos para predecir el target, que en este caso es la columna `is_ultra`."
   ]
  },
  {
   "cell_type": "markdown",
   "metadata": {},
   "source": [
    "## <a id='toc2_'></a>[Entrenamiento y evaluación de modelos](#toc0_)"
   ]
  },
  {
   "cell_type": "markdown",
   "metadata": {},
   "source": [
    "### <a id='toc2_1_'></a>[Segmentación de los datos](#toc0_)"
   ]
  },
  {
   "cell_type": "markdown",
   "metadata": {},
   "source": [
    "Al contar solo con el conjunto de datos fuente se dividirá este en tres partes según la proporción 3:1:1, para los conjuntos de entrenamiento, validación y prueba, respectivamente. "
   ]
  },
  {
   "cell_type": "code",
   "execution_count": 4,
   "metadata": {},
   "outputs": [],
   "source": [
    "features = df.drop(['is_ultra'], axis=1)\n",
    "target = df['is_ultra']\n",
    "# Primera división del dataset para obtener el conjunto de entrenamiento\n",
    "features_train, features_rest, target_train, target_rest = train_test_split(\n",
    "    features, target, test_size=0.4, random_state=12345)\n",
    "# Segunda división del dataset para obtener los conjuntos de validación y prueba\n",
    "features_valid, features_test, target_valid, target_test = train_test_split(\n",
    "    features_rest, target_rest, test_size=0.5, random_state=12345)"
   ]
  },
  {
   "cell_type": "code",
   "execution_count": 5,
   "metadata": {},
   "outputs": [
    {
     "name": "stdout",
     "output_type": "stream",
     "text": [
      "Tamaño de los conjuntos y su proporción con respecto al conjunto original:\n",
      "\n",
      "Conjunto de entrenamiento: 1928, 60.0%\n",
      "Conjunto de validación: 643, 20.0%\n",
      "Conjunto de prueba: 643, 20.0%\n",
      "Conjunto original: 3214, 100.0%\n"
     ]
    }
   ],
   "source": [
    "# Se comprueba el tamaño de los conjuntos resultantes\n",
    "print(\"Tamaño de los conjuntos y su proporción con respecto al conjunto original:\")\n",
    "print(\"\")\n",
    "print(f\"Conjunto de entrenamiento: {len(features_train)}, {len(features_train)/len(df):.1%}\")\n",
    "print(f\"Conjunto de validación: {len(features_valid)}, {len(features_valid)/len(df):.1%}\")\n",
    "print(f\"Conjunto de prueba: {len(features_test)}, {len(features_test)/len(df):.1%}\")\n",
    "print(f\"Conjunto original: {len(df)}, {len(df)/len(df):.1%}\")"
   ]
  },
  {
   "cell_type": "markdown",
   "metadata": {},
   "source": [
    "Habiendo segmentado los datos, se procede a entrenar y evaluar los modelos utilizando los conjuntos de entrenamiento y validación."
   ]
  },
  {
   "cell_type": "markdown",
   "metadata": {},
   "source": [
    "### <a id='toc2_2_'></a>[Árbol de decisión](#toc0_)"
   ]
  },
  {
   "cell_type": "markdown",
   "metadata": {},
   "source": [
    "Se llama a la función `DecisionTreeClassifier()`. En los hiperparámetros, se fija `random_state=123456` y en un bucle se prueban distintos valores de `max_depth` (del 1 al 10) para conocer el que genere el modelo de mayor exactitud. "
   ]
  },
  {
   "cell_type": "code",
   "execution_count": 6,
   "metadata": {},
   "outputs": [
    {
     "name": "stdout",
     "output_type": "stream",
     "text": [
      "Exactitud del mejor modelo en el conjunto de validación (max_depth = 3): 0.7853810264385692\n"
     ]
    }
   ],
   "source": [
    "best_model_dt = None\n",
    "best_score = 0\n",
    "best_depth = 0\n",
    "for depth in range(1,11):\n",
    "    model = DecisionTreeClassifier(random_state=123456, max_depth=depth)\n",
    "    model.fit(features_train, target_train)\n",
    "    score = model.score(features_valid, target_valid)\n",
    "    if score > best_score:\n",
    "        best_model_dt = model\n",
    "        best_score = score\n",
    "        best_depth = depth\n",
    "print(f\"Exactitud del mejor modelo en el conjunto de validación (max_depth = {best_depth}): {best_score}\")"
   ]
  },
  {
   "cell_type": "markdown",
   "metadata": {},
   "source": [
    "Para el rango de valores de `max_depth` evaluado, la profundidad máxima de 3 produce el modelo de mayor exactitud, que es igual al 78.5%."
   ]
  },
  {
   "cell_type": "markdown",
   "metadata": {},
   "source": [
    "### <a id='toc2_3_'></a>[Bosque Aleatorio](#toc0_)"
   ]
  },
  {
   "cell_type": "markdown",
   "metadata": {},
   "source": [
    "Se llama a la función `RandomForestClassifier()`. En los hiperparámetros, se fija `random_state=123456` y en un bucle anidado se prueban distintos valores de árboles o `n_estimatores` (del 10 a 50 en pasos de 10) y de `max_depth` (del 1 al 10) para conocer el que genere el modelo de mayor exactitud. "
   ]
  },
  {
   "cell_type": "code",
   "execution_count": 7,
   "metadata": {},
   "outputs": [
    {
     "name": "stdout",
     "output_type": "stream",
     "text": [
      "Exactitud del mejor modelo en el conjunto de validación: 0.8087091757387247 n_estimators: 40 best_depth: 8\n"
     ]
    }
   ],
   "source": [
    "best_model_rf = None\n",
    "best_score = 0\n",
    "best_est = 0\n",
    "best_depth = 0\n",
    "for est in range(10, 51, 10): #Ver que rango usar\n",
    "    for depth in range (1, 11):\n",
    "        model = RandomForestClassifier(random_state=12345, n_estimators=est, max_depth=depth) \n",
    "        model.fit(features_train, target_train) \n",
    "        score = model.score(features_valid, target_valid) \n",
    "        if score > best_score:\n",
    "            best_model_rf = model\n",
    "            best_score = score\n",
    "            best_est = est\n",
    "            best_depth = depth\n",
    "\n",
    "print(\"Exactitud del mejor modelo en el conjunto de validación:\", best_score, \"n_estimators:\", best_est, \"best_depth:\", best_depth)\n"
   ]
  },
  {
   "cell_type": "markdown",
   "metadata": {},
   "source": [
    "El modelo con mejor exactitud (80.9%) fue aquel configurado con un número de árboles de 40 y una profundidad máxima de 8."
   ]
  },
  {
   "cell_type": "markdown",
   "metadata": {},
   "source": [
    "### <a id='toc2_4_'></a>[Regresión logística](#toc0_)"
   ]
  },
  {
   "cell_type": "markdown",
   "metadata": {},
   "source": [
    "Se llama a la función LogisticRegression(). Se fija `random_state=123456` y `solver='liblinear'`."
   ]
  },
  {
   "cell_type": "code",
   "execution_count": 8,
   "metadata": {},
   "outputs": [
    {
     "name": "stdout",
     "output_type": "stream",
     "text": [
      "Exactitud del modelo de regresión logística en el conjunto de validación: 0.7589424572317263\n"
     ]
    }
   ],
   "source": [
    "model = LogisticRegression(random_state=123456, solver='liblinear') \n",
    "model.fit(features_train, target_train)\n",
    "score_train = model.score(features_train, target_train)\n",
    "score_valid = model.score(features_valid, target_valid)\n",
    "# print(\"Accuracy del modelo de regresión logística en el conjunto de entrenamiento:\", score_train)\n",
    "print(\"Exactitud del modelo de regresión logística en el conjunto de validación:\", score_valid)\n"
   ]
  },
  {
   "cell_type": "markdown",
   "metadata": {},
   "source": [
    "El modelo de regresión logística arrojó una exactitud del 75.9%, la más baja de todos los modelos."
   ]
  },
  {
   "cell_type": "markdown",
   "metadata": {},
   "source": [
    "### <a id='toc2_5_'></a>[Conclusiones](#toc0_)"
   ]
  },
  {
   "cell_type": "markdown",
   "metadata": {},
   "source": [
    "Si bien los tres tipos de modelo lograron resultados razonables, el modelo de bosque aleatorio o Random Forest Classifier obtuvo la mayor exactitud, alcanzando un 80,9%. Esto indica que este modelo puede ser el más adecuado para abordar el caso específico de recomendar planes de telefonía."
   ]
  },
  {
   "cell_type": "markdown",
   "metadata": {},
   "source": [
    "## <a id='toc3_'></a>[Comprobación de la calidad del mejor modelo con el conjunto de prueba](#toc0_)"
   ]
  },
  {
   "cell_type": "markdown",
   "metadata": {},
   "source": [
    "Al haber determinado el modelo con la mayor exactitud, se procede a evaluarlo con el conjunto de prueba que se segmentó anteriormente."
   ]
  },
  {
   "cell_type": "code",
   "execution_count": 9,
   "metadata": {},
   "outputs": [
    {
     "name": "stdout",
     "output_type": "stream",
     "text": [
      "Exactitud: 0.7962674961119751\n"
     ]
    }
   ],
   "source": [
    "print(f'Exactitud: {best_model_rf.score(features_test, target_test)}')"
   ]
  },
  {
   "cell_type": "markdown",
   "metadata": {},
   "source": [
    "La exactitud resultante de 79.6% es cercana a la exactitud obtenida con el conjunto de validación. Por lo tanto, el modelo tiene buenos resultados con otros conjuntos de datos."
   ]
  },
  {
   "cell_type": "markdown",
   "metadata": {},
   "source": [
    "## <a id='toc4_'></a>[Prueba de cordura y conclusiones](#toc0_)"
   ]
  },
  {
   "cell_type": "markdown",
   "metadata": {},
   "source": [
    "Se realiza una prueba de cordura para asegurarse de que el modelo funciona mejor que la casualidad. Para ello se toma de nuevo el conjunto de prueba y se determina la proporción de clientes de cada plan frente al total del conjunto."
   ]
  },
  {
   "cell_type": "code",
   "execution_count": 10,
   "metadata": {},
   "outputs": [
    {
     "name": "stdout",
     "output_type": "stream",
     "text": [
      "Usuarios de Smart: 440, 68.4%\n",
      "Usuarios de Ultra: 203, 31.6%\n",
      "Total de usuarios: 643, 100.0%\n"
     ]
    }
   ],
   "source": [
    "print(f'Usuarios de Smart: {sum(target_test == 0)}, {sum(target_test == 0)/len(target_test):.1%}')\n",
    "print(f'Usuarios de Ultra: {sum(target_test == 1)}, {sum(target_test == 1)/len(target_test):.1%}')\n",
    "print(f'Total de usuarios: {len(target_test)}, {len(target_test)/len(target_test):.1%}')"
   ]
  },
  {
   "cell_type": "markdown",
   "metadata": {},
   "source": [
    "Los usuarios de Smart son mayoría en el conjunto con un 68.4%. Si se tuviera un modelo que solo predijera el tipo de plan más frecuente, en este caso Smart, este acertaría el 68.4% de las veces. El modelo de bosque aleatorio que se desarrolló antes acertó el 79,6% de las veces con el mismo conjunto. Por lo tanto, este modelo pasa la prueba de cordura al funcionar mejor que la casualidad."
   ]
  }
 ],
 "metadata": {
  "kernelspec": {
   "display_name": "Python 3 (ipykernel)",
   "language": "python",
   "name": "python3"
  },
  "language_info": {
   "codemirror_mode": {
    "name": "ipython",
    "version": 3
   },
   "file_extension": ".py",
   "mimetype": "text/x-python",
   "name": "python",
   "nbconvert_exporter": "python",
   "pygments_lexer": "ipython3",
   "version": "3.9.5"
  },
  "toc": {
   "base_numbering": 1,
   "nav_menu": {},
   "number_sections": true,
   "sideBar": true,
   "skip_h1_title": true,
   "title_cell": "Table of Contents",
   "title_sidebar": "Contents",
   "toc_cell": false,
   "toc_position": {},
   "toc_section_display": true,
   "toc_window_display": true
  }
 },
 "nbformat": 4,
 "nbformat_minor": 2
}
