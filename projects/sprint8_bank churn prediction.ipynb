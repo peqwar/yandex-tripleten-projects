{
 "cells": [
  {
   "cell_type": "markdown",
   "metadata": {},
   "source": [
    "# Predicción de terminación de contratos con el banco"
   ]
  },
  {
   "cell_type": "markdown",
   "metadata": {},
   "source": [
    "En este proyecto se busca predecir si un cliente dejará pronto el banco. Se utilizará un conjunto de datos sobre el comportamiento pasado de los clientes y su terminación de contratos con el banco. Se generarán distintos modelos buscando el de mayor calidad posible según las métricas de F1. También se determinará el AUC-ROC para el modelo final."
   ]
  },
  {
   "cell_type": "markdown",
   "metadata": {},
   "source": [
    "## Información general"
   ]
  },
  {
   "cell_type": "code",
   "execution_count": 2,
   "metadata": {},
   "outputs": [],
   "source": [
    "#Librerías\n",
    "import pandas as pd\n",
    "import matplotlib.pyplot as plt\n",
    "from sklearn.tree import DecisionTreeClassifier \n",
    "from sklearn.ensemble import RandomForestClassifier \n",
    "from sklearn.linear_model import LogisticRegression \n",
    "from sklearn.model_selection import train_test_split\n",
    "from sklearn.preprocessing import StandardScaler\n",
    "from sklearn.utils import shuffle \n",
    "from sklearn.metrics import f1_score\n",
    "from sklearn.metrics import roc_auc_score\n",
    "from sklearn.metrics import roc_curve"
   ]
  },
  {
   "cell_type": "code",
   "execution_count": 3,
   "metadata": {},
   "outputs": [
    {
     "name": "stdout",
     "output_type": "stream",
     "text": [
      "<class 'pandas.core.frame.DataFrame'>\n",
      "RangeIndex: 10000 entries, 0 to 9999\n",
      "Data columns (total 14 columns):\n",
      " #   Column           Non-Null Count  Dtype  \n",
      "---  ------           --------------  -----  \n",
      " 0   RowNumber        10000 non-null  int64  \n",
      " 1   CustomerId       10000 non-null  int64  \n",
      " 2   Surname          10000 non-null  object \n",
      " 3   CreditScore      10000 non-null  int64  \n",
      " 4   Geography        10000 non-null  object \n",
      " 5   Gender           10000 non-null  object \n",
      " 6   Age              10000 non-null  int64  \n",
      " 7   Tenure           9091 non-null   float64\n",
      " 8   Balance          10000 non-null  float64\n",
      " 9   NumOfProducts    10000 non-null  int64  \n",
      " 10  HasCrCard        10000 non-null  int64  \n",
      " 11  IsActiveMember   10000 non-null  int64  \n",
      " 12  EstimatedSalary  10000 non-null  float64\n",
      " 13  Exited           10000 non-null  int64  \n",
      "dtypes: float64(3), int64(8), object(3)\n",
      "memory usage: 1.1+ MB\n"
     ]
    }
   ],
   "source": [
    "df = pd.read_csv('/datasets/Churn.csv')\n",
    "df.info()"
   ]
  },
  {
   "cell_type": "code",
   "execution_count": 4,
   "metadata": {},
   "outputs": [
    {
     "data": {
      "text/html": [
       "<div>\n",
       "<style scoped>\n",
       "    .dataframe tbody tr th:only-of-type {\n",
       "        vertical-align: middle;\n",
       "    }\n",
       "\n",
       "    .dataframe tbody tr th {\n",
       "        vertical-align: top;\n",
       "    }\n",
       "\n",
       "    .dataframe thead th {\n",
       "        text-align: right;\n",
       "    }\n",
       "</style>\n",
       "<table border=\"1\" class=\"dataframe\">\n",
       "  <thead>\n",
       "    <tr style=\"text-align: right;\">\n",
       "      <th></th>\n",
       "      <th>RowNumber</th>\n",
       "      <th>CustomerId</th>\n",
       "      <th>Surname</th>\n",
       "      <th>CreditScore</th>\n",
       "      <th>Geography</th>\n",
       "      <th>Gender</th>\n",
       "      <th>Age</th>\n",
       "      <th>Tenure</th>\n",
       "      <th>Balance</th>\n",
       "      <th>NumOfProducts</th>\n",
       "      <th>HasCrCard</th>\n",
       "      <th>IsActiveMember</th>\n",
       "      <th>EstimatedSalary</th>\n",
       "      <th>Exited</th>\n",
       "    </tr>\n",
       "  </thead>\n",
       "  <tbody>\n",
       "    <tr>\n",
       "      <th>0</th>\n",
       "      <td>1</td>\n",
       "      <td>15634602</td>\n",
       "      <td>Hargrave</td>\n",
       "      <td>619</td>\n",
       "      <td>France</td>\n",
       "      <td>Female</td>\n",
       "      <td>42</td>\n",
       "      <td>2.0</td>\n",
       "      <td>0.00</td>\n",
       "      <td>1</td>\n",
       "      <td>1</td>\n",
       "      <td>1</td>\n",
       "      <td>101348.88</td>\n",
       "      <td>1</td>\n",
       "    </tr>\n",
       "    <tr>\n",
       "      <th>1</th>\n",
       "      <td>2</td>\n",
       "      <td>15647311</td>\n",
       "      <td>Hill</td>\n",
       "      <td>608</td>\n",
       "      <td>Spain</td>\n",
       "      <td>Female</td>\n",
       "      <td>41</td>\n",
       "      <td>1.0</td>\n",
       "      <td>83807.86</td>\n",
       "      <td>1</td>\n",
       "      <td>0</td>\n",
       "      <td>1</td>\n",
       "      <td>112542.58</td>\n",
       "      <td>0</td>\n",
       "    </tr>\n",
       "    <tr>\n",
       "      <th>2</th>\n",
       "      <td>3</td>\n",
       "      <td>15619304</td>\n",
       "      <td>Onio</td>\n",
       "      <td>502</td>\n",
       "      <td>France</td>\n",
       "      <td>Female</td>\n",
       "      <td>42</td>\n",
       "      <td>8.0</td>\n",
       "      <td>159660.80</td>\n",
       "      <td>3</td>\n",
       "      <td>1</td>\n",
       "      <td>0</td>\n",
       "      <td>113931.57</td>\n",
       "      <td>1</td>\n",
       "    </tr>\n",
       "    <tr>\n",
       "      <th>3</th>\n",
       "      <td>4</td>\n",
       "      <td>15701354</td>\n",
       "      <td>Boni</td>\n",
       "      <td>699</td>\n",
       "      <td>France</td>\n",
       "      <td>Female</td>\n",
       "      <td>39</td>\n",
       "      <td>1.0</td>\n",
       "      <td>0.00</td>\n",
       "      <td>2</td>\n",
       "      <td>0</td>\n",
       "      <td>0</td>\n",
       "      <td>93826.63</td>\n",
       "      <td>0</td>\n",
       "    </tr>\n",
       "    <tr>\n",
       "      <th>4</th>\n",
       "      <td>5</td>\n",
       "      <td>15737888</td>\n",
       "      <td>Mitchell</td>\n",
       "      <td>850</td>\n",
       "      <td>Spain</td>\n",
       "      <td>Female</td>\n",
       "      <td>43</td>\n",
       "      <td>2.0</td>\n",
       "      <td>125510.82</td>\n",
       "      <td>1</td>\n",
       "      <td>1</td>\n",
       "      <td>1</td>\n",
       "      <td>79084.10</td>\n",
       "      <td>0</td>\n",
       "    </tr>\n",
       "    <tr>\n",
       "      <th>5</th>\n",
       "      <td>6</td>\n",
       "      <td>15574012</td>\n",
       "      <td>Chu</td>\n",
       "      <td>645</td>\n",
       "      <td>Spain</td>\n",
       "      <td>Male</td>\n",
       "      <td>44</td>\n",
       "      <td>8.0</td>\n",
       "      <td>113755.78</td>\n",
       "      <td>2</td>\n",
       "      <td>1</td>\n",
       "      <td>0</td>\n",
       "      <td>149756.71</td>\n",
       "      <td>1</td>\n",
       "    </tr>\n",
       "    <tr>\n",
       "      <th>6</th>\n",
       "      <td>7</td>\n",
       "      <td>15592531</td>\n",
       "      <td>Bartlett</td>\n",
       "      <td>822</td>\n",
       "      <td>France</td>\n",
       "      <td>Male</td>\n",
       "      <td>50</td>\n",
       "      <td>7.0</td>\n",
       "      <td>0.00</td>\n",
       "      <td>2</td>\n",
       "      <td>1</td>\n",
       "      <td>1</td>\n",
       "      <td>10062.80</td>\n",
       "      <td>0</td>\n",
       "    </tr>\n",
       "    <tr>\n",
       "      <th>7</th>\n",
       "      <td>8</td>\n",
       "      <td>15656148</td>\n",
       "      <td>Obinna</td>\n",
       "      <td>376</td>\n",
       "      <td>Germany</td>\n",
       "      <td>Female</td>\n",
       "      <td>29</td>\n",
       "      <td>4.0</td>\n",
       "      <td>115046.74</td>\n",
       "      <td>4</td>\n",
       "      <td>1</td>\n",
       "      <td>0</td>\n",
       "      <td>119346.88</td>\n",
       "      <td>1</td>\n",
       "    </tr>\n",
       "    <tr>\n",
       "      <th>8</th>\n",
       "      <td>9</td>\n",
       "      <td>15792365</td>\n",
       "      <td>He</td>\n",
       "      <td>501</td>\n",
       "      <td>France</td>\n",
       "      <td>Male</td>\n",
       "      <td>44</td>\n",
       "      <td>4.0</td>\n",
       "      <td>142051.07</td>\n",
       "      <td>2</td>\n",
       "      <td>0</td>\n",
       "      <td>1</td>\n",
       "      <td>74940.50</td>\n",
       "      <td>0</td>\n",
       "    </tr>\n",
       "    <tr>\n",
       "      <th>9</th>\n",
       "      <td>10</td>\n",
       "      <td>15592389</td>\n",
       "      <td>H?</td>\n",
       "      <td>684</td>\n",
       "      <td>France</td>\n",
       "      <td>Male</td>\n",
       "      <td>27</td>\n",
       "      <td>2.0</td>\n",
       "      <td>134603.88</td>\n",
       "      <td>1</td>\n",
       "      <td>1</td>\n",
       "      <td>1</td>\n",
       "      <td>71725.73</td>\n",
       "      <td>0</td>\n",
       "    </tr>\n",
       "  </tbody>\n",
       "</table>\n",
       "</div>"
      ],
      "text/plain": [
       "   RowNumber  CustomerId   Surname  CreditScore Geography  Gender  Age  \\\n",
       "0          1    15634602  Hargrave          619    France  Female   42   \n",
       "1          2    15647311      Hill          608     Spain  Female   41   \n",
       "2          3    15619304      Onio          502    France  Female   42   \n",
       "3          4    15701354      Boni          699    France  Female   39   \n",
       "4          5    15737888  Mitchell          850     Spain  Female   43   \n",
       "5          6    15574012       Chu          645     Spain    Male   44   \n",
       "6          7    15592531  Bartlett          822    France    Male   50   \n",
       "7          8    15656148    Obinna          376   Germany  Female   29   \n",
       "8          9    15792365        He          501    France    Male   44   \n",
       "9         10    15592389        H?          684    France    Male   27   \n",
       "\n",
       "   Tenure    Balance  NumOfProducts  HasCrCard  IsActiveMember  \\\n",
       "0     2.0       0.00              1          1               1   \n",
       "1     1.0   83807.86              1          0               1   \n",
       "2     8.0  159660.80              3          1               0   \n",
       "3     1.0       0.00              2          0               0   \n",
       "4     2.0  125510.82              1          1               1   \n",
       "5     8.0  113755.78              2          1               0   \n",
       "6     7.0       0.00              2          1               1   \n",
       "7     4.0  115046.74              4          1               0   \n",
       "8     4.0  142051.07              2          0               1   \n",
       "9     2.0  134603.88              1          1               1   \n",
       "\n",
       "   EstimatedSalary  Exited  \n",
       "0        101348.88       1  \n",
       "1        112542.58       0  \n",
       "2        113931.57       1  \n",
       "3         93826.63       0  \n",
       "4         79084.10       0  \n",
       "5        149756.71       1  \n",
       "6         10062.80       0  \n",
       "7        119346.88       1  \n",
       "8         74940.50       0  \n",
       "9         71725.73       0  "
      ]
     },
     "execution_count": 4,
     "metadata": {},
     "output_type": "execute_result"
    }
   ],
   "source": [
    "df.head(10)"
   ]
  },
  {
   "cell_type": "markdown",
   "metadata": {},
   "source": [
    "## Preprocesamiento de datos"
   ]
  },
  {
   "cell_type": "markdown",
   "metadata": {},
   "source": [
    "### Valores ausentes"
   ]
  },
  {
   "cell_type": "code",
   "execution_count": 5,
   "metadata": {},
   "outputs": [
    {
     "data": {
      "text/plain": [
       "1.0     952\n",
       "2.0     950\n",
       "8.0     933\n",
       "3.0     928\n",
       "5.0     927\n",
       "7.0     925\n",
       "NaN     909\n",
       "4.0     885\n",
       "9.0     882\n",
       "6.0     881\n",
       "10.0    446\n",
       "0.0     382\n",
       "Name: Tenure, dtype: int64"
      ]
     },
     "execution_count": 5,
     "metadata": {},
     "output_type": "execute_result"
    }
   ],
   "source": [
    "df['Tenure'].value_counts(dropna=False)"
   ]
  },
  {
   "cell_type": "markdown",
   "metadata": {},
   "source": [
    "Se encuentran valores ausentes en la columna `Tenure` y su proporción es similar a varias otros valores de la columna."
   ]
  },
  {
   "cell_type": "markdown",
   "metadata": {},
   "source": [
    "Se asume que los valores ausentes se deben a clientes que no cuentan con depósito a plazo fijo en el banco y, por tanto, su valor podría ser equivalente a cero. Por lo tanto, se procede a reemplazar de esta forma los valores ausentes."
   ]
  },
  {
   "cell_type": "code",
   "execution_count": 6,
   "metadata": {},
   "outputs": [
    {
     "name": "stdout",
     "output_type": "stream",
     "text": [
      "<class 'pandas.core.frame.DataFrame'>\n",
      "RangeIndex: 10000 entries, 0 to 9999\n",
      "Data columns (total 14 columns):\n",
      " #   Column           Non-Null Count  Dtype  \n",
      "---  ------           --------------  -----  \n",
      " 0   RowNumber        10000 non-null  int64  \n",
      " 1   CustomerId       10000 non-null  int64  \n",
      " 2   Surname          10000 non-null  object \n",
      " 3   CreditScore      10000 non-null  int64  \n",
      " 4   Geography        10000 non-null  object \n",
      " 5   Gender           10000 non-null  object \n",
      " 6   Age              10000 non-null  int64  \n",
      " 7   Tenure           10000 non-null  float64\n",
      " 8   Balance          10000 non-null  float64\n",
      " 9   NumOfProducts    10000 non-null  int64  \n",
      " 10  HasCrCard        10000 non-null  int64  \n",
      " 11  IsActiveMember   10000 non-null  int64  \n",
      " 12  EstimatedSalary  10000 non-null  float64\n",
      " 13  Exited           10000 non-null  int64  \n",
      "dtypes: float64(3), int64(8), object(3)\n",
      "memory usage: 1.1+ MB\n"
     ]
    }
   ],
   "source": [
    "df['Tenure'] = df['Tenure'].fillna(0)\n",
    "df.info()"
   ]
  },
  {
   "cell_type": "markdown",
   "metadata": {},
   "source": [
    "### Selección de columnas"
   ]
  },
  {
   "cell_type": "markdown",
   "metadata": {},
   "source": [
    "De todas las columnas disponibles en el conjunto de datos, se descartan `RowNumber`, `CustomerId` y `Surname` puesto que no son útiles para entrenar los modelos y podrían llevar al sobreajuste."
   ]
  },
  {
   "cell_type": "code",
   "execution_count": 7,
   "metadata": {},
   "outputs": [
    {
     "name": "stdout",
     "output_type": "stream",
     "text": [
      "<class 'pandas.core.frame.DataFrame'>\n",
      "RangeIndex: 10000 entries, 0 to 9999\n",
      "Data columns (total 11 columns):\n",
      " #   Column           Non-Null Count  Dtype  \n",
      "---  ------           --------------  -----  \n",
      " 0   CreditScore      10000 non-null  int64  \n",
      " 1   Geography        10000 non-null  object \n",
      " 2   Gender           10000 non-null  object \n",
      " 3   Age              10000 non-null  int64  \n",
      " 4   Tenure           10000 non-null  float64\n",
      " 5   Balance          10000 non-null  float64\n",
      " 6   NumOfProducts    10000 non-null  int64  \n",
      " 7   HasCrCard        10000 non-null  int64  \n",
      " 8   IsActiveMember   10000 non-null  int64  \n",
      " 9   EstimatedSalary  10000 non-null  float64\n",
      " 10  Exited           10000 non-null  int64  \n",
      "dtypes: float64(3), int64(6), object(2)\n",
      "memory usage: 859.5+ KB\n"
     ]
    }
   ],
   "source": [
    "data = df.drop(['RowNumber', 'CustomerId', 'Surname'], axis=1)\n",
    "data.info()"
   ]
  },
  {
   "cell_type": "markdown",
   "metadata": {},
   "source": [
    "### Codificación"
   ]
  },
  {
   "cell_type": "markdown",
   "metadata": {},
   "source": [
    "Se transforman las características categóricas a numéricas mediante la técnica One-Hot Encoding. Para ello se llama a la función `pd.get_dummies()`."
   ]
  },
  {
   "cell_type": "code",
   "execution_count": 8,
   "metadata": {},
   "outputs": [
    {
     "data": {
      "text/html": [
       "<div>\n",
       "<style scoped>\n",
       "    .dataframe tbody tr th:only-of-type {\n",
       "        vertical-align: middle;\n",
       "    }\n",
       "\n",
       "    .dataframe tbody tr th {\n",
       "        vertical-align: top;\n",
       "    }\n",
       "\n",
       "    .dataframe thead th {\n",
       "        text-align: right;\n",
       "    }\n",
       "</style>\n",
       "<table border=\"1\" class=\"dataframe\">\n",
       "  <thead>\n",
       "    <tr style=\"text-align: right;\">\n",
       "      <th></th>\n",
       "      <th>CreditScore</th>\n",
       "      <th>Age</th>\n",
       "      <th>Tenure</th>\n",
       "      <th>Balance</th>\n",
       "      <th>NumOfProducts</th>\n",
       "      <th>HasCrCard</th>\n",
       "      <th>IsActiveMember</th>\n",
       "      <th>EstimatedSalary</th>\n",
       "      <th>Exited</th>\n",
       "      <th>Geography_Germany</th>\n",
       "      <th>Geography_Spain</th>\n",
       "      <th>Gender_Male</th>\n",
       "    </tr>\n",
       "  </thead>\n",
       "  <tbody>\n",
       "    <tr>\n",
       "      <th>0</th>\n",
       "      <td>619</td>\n",
       "      <td>42</td>\n",
       "      <td>2.0</td>\n",
       "      <td>0.00</td>\n",
       "      <td>1</td>\n",
       "      <td>1</td>\n",
       "      <td>1</td>\n",
       "      <td>101348.88</td>\n",
       "      <td>1</td>\n",
       "      <td>0</td>\n",
       "      <td>0</td>\n",
       "      <td>0</td>\n",
       "    </tr>\n",
       "    <tr>\n",
       "      <th>1</th>\n",
       "      <td>608</td>\n",
       "      <td>41</td>\n",
       "      <td>1.0</td>\n",
       "      <td>83807.86</td>\n",
       "      <td>1</td>\n",
       "      <td>0</td>\n",
       "      <td>1</td>\n",
       "      <td>112542.58</td>\n",
       "      <td>0</td>\n",
       "      <td>0</td>\n",
       "      <td>1</td>\n",
       "      <td>0</td>\n",
       "    </tr>\n",
       "    <tr>\n",
       "      <th>2</th>\n",
       "      <td>502</td>\n",
       "      <td>42</td>\n",
       "      <td>8.0</td>\n",
       "      <td>159660.80</td>\n",
       "      <td>3</td>\n",
       "      <td>1</td>\n",
       "      <td>0</td>\n",
       "      <td>113931.57</td>\n",
       "      <td>1</td>\n",
       "      <td>0</td>\n",
       "      <td>0</td>\n",
       "      <td>0</td>\n",
       "    </tr>\n",
       "    <tr>\n",
       "      <th>3</th>\n",
       "      <td>699</td>\n",
       "      <td>39</td>\n",
       "      <td>1.0</td>\n",
       "      <td>0.00</td>\n",
       "      <td>2</td>\n",
       "      <td>0</td>\n",
       "      <td>0</td>\n",
       "      <td>93826.63</td>\n",
       "      <td>0</td>\n",
       "      <td>0</td>\n",
       "      <td>0</td>\n",
       "      <td>0</td>\n",
       "    </tr>\n",
       "    <tr>\n",
       "      <th>4</th>\n",
       "      <td>850</td>\n",
       "      <td>43</td>\n",
       "      <td>2.0</td>\n",
       "      <td>125510.82</td>\n",
       "      <td>1</td>\n",
       "      <td>1</td>\n",
       "      <td>1</td>\n",
       "      <td>79084.10</td>\n",
       "      <td>0</td>\n",
       "      <td>0</td>\n",
       "      <td>1</td>\n",
       "      <td>0</td>\n",
       "    </tr>\n",
       "  </tbody>\n",
       "</table>\n",
       "</div>"
      ],
      "text/plain": [
       "   CreditScore  Age  Tenure    Balance  NumOfProducts  HasCrCard  \\\n",
       "0          619   42     2.0       0.00              1          1   \n",
       "1          608   41     1.0   83807.86              1          0   \n",
       "2          502   42     8.0  159660.80              3          1   \n",
       "3          699   39     1.0       0.00              2          0   \n",
       "4          850   43     2.0  125510.82              1          1   \n",
       "\n",
       "   IsActiveMember  EstimatedSalary  Exited  Geography_Germany  \\\n",
       "0               1        101348.88       1                  0   \n",
       "1               1        112542.58       0                  0   \n",
       "2               0        113931.57       1                  0   \n",
       "3               0         93826.63       0                  0   \n",
       "4               1         79084.10       0                  0   \n",
       "\n",
       "   Geography_Spain  Gender_Male  \n",
       "0                0            0  \n",
       "1                1            0  \n",
       "2                0            0  \n",
       "3                0            0  \n",
       "4                1            0  "
      ]
     },
     "execution_count": 8,
     "metadata": {},
     "output_type": "execute_result"
    }
   ],
   "source": [
    "data_ohe = pd.get_dummies(data, drop_first=True)\n",
    "data_ohe.head()"
   ]
  },
  {
   "cell_type": "markdown",
   "metadata": {},
   "source": [
    "### Escalado de características"
   ]
  },
  {
   "cell_type": "markdown",
   "metadata": {},
   "source": [
    "Puesto que las características tienen diferentes escalas se estandarizan los datos mediante el escalado para que puedan considerarse igualmente importantes en el entrenamiento del modelo."
   ]
  },
  {
   "cell_type": "code",
   "execution_count": 9,
   "metadata": {},
   "outputs": [
    {
     "data": {
      "text/html": [
       "<div>\n",
       "<style scoped>\n",
       "    .dataframe tbody tr th:only-of-type {\n",
       "        vertical-align: middle;\n",
       "    }\n",
       "\n",
       "    .dataframe tbody tr th {\n",
       "        vertical-align: top;\n",
       "    }\n",
       "\n",
       "    .dataframe thead th {\n",
       "        text-align: right;\n",
       "    }\n",
       "</style>\n",
       "<table border=\"1\" class=\"dataframe\">\n",
       "  <thead>\n",
       "    <tr style=\"text-align: right;\">\n",
       "      <th></th>\n",
       "      <th>CreditScore</th>\n",
       "      <th>Age</th>\n",
       "      <th>Tenure</th>\n",
       "      <th>Balance</th>\n",
       "      <th>NumOfProducts</th>\n",
       "      <th>HasCrCard</th>\n",
       "      <th>IsActiveMember</th>\n",
       "      <th>EstimatedSalary</th>\n",
       "      <th>Exited</th>\n",
       "      <th>Geography_Germany</th>\n",
       "      <th>Geography_Spain</th>\n",
       "      <th>Gender_Male</th>\n",
       "    </tr>\n",
       "  </thead>\n",
       "  <tbody>\n",
       "    <tr>\n",
       "      <th>0</th>\n",
       "      <td>-0.326221</td>\n",
       "      <td>0.293517</td>\n",
       "      <td>-0.817441</td>\n",
       "      <td>-1.225848</td>\n",
       "      <td>-0.911583</td>\n",
       "      <td>1</td>\n",
       "      <td>1</td>\n",
       "      <td>0.021886</td>\n",
       "      <td>1</td>\n",
       "      <td>0</td>\n",
       "      <td>0</td>\n",
       "      <td>0</td>\n",
       "    </tr>\n",
       "    <tr>\n",
       "      <th>1</th>\n",
       "      <td>-0.440036</td>\n",
       "      <td>0.198164</td>\n",
       "      <td>-1.138838</td>\n",
       "      <td>0.117350</td>\n",
       "      <td>-0.911583</td>\n",
       "      <td>0</td>\n",
       "      <td>1</td>\n",
       "      <td>0.216534</td>\n",
       "      <td>0</td>\n",
       "      <td>0</td>\n",
       "      <td>1</td>\n",
       "      <td>0</td>\n",
       "    </tr>\n",
       "    <tr>\n",
       "      <th>2</th>\n",
       "      <td>-1.536794</td>\n",
       "      <td>0.293517</td>\n",
       "      <td>1.110941</td>\n",
       "      <td>1.333053</td>\n",
       "      <td>2.527057</td>\n",
       "      <td>1</td>\n",
       "      <td>0</td>\n",
       "      <td>0.240687</td>\n",
       "      <td>1</td>\n",
       "      <td>0</td>\n",
       "      <td>0</td>\n",
       "      <td>0</td>\n",
       "    </tr>\n",
       "    <tr>\n",
       "      <th>3</th>\n",
       "      <td>0.501521</td>\n",
       "      <td>0.007457</td>\n",
       "      <td>-1.138838</td>\n",
       "      <td>-1.225848</td>\n",
       "      <td>0.807737</td>\n",
       "      <td>0</td>\n",
       "      <td>0</td>\n",
       "      <td>-0.108918</td>\n",
       "      <td>0</td>\n",
       "      <td>0</td>\n",
       "      <td>0</td>\n",
       "      <td>0</td>\n",
       "    </tr>\n",
       "    <tr>\n",
       "      <th>4</th>\n",
       "      <td>2.063884</td>\n",
       "      <td>0.388871</td>\n",
       "      <td>-0.817441</td>\n",
       "      <td>0.785728</td>\n",
       "      <td>-0.911583</td>\n",
       "      <td>1</td>\n",
       "      <td>1</td>\n",
       "      <td>-0.365276</td>\n",
       "      <td>0</td>\n",
       "      <td>0</td>\n",
       "      <td>1</td>\n",
       "      <td>0</td>\n",
       "    </tr>\n",
       "  </tbody>\n",
       "</table>\n",
       "</div>"
      ],
      "text/plain": [
       "   CreditScore       Age    Tenure   Balance  NumOfProducts  HasCrCard  \\\n",
       "0    -0.326221  0.293517 -0.817441 -1.225848      -0.911583          1   \n",
       "1    -0.440036  0.198164 -1.138838  0.117350      -0.911583          0   \n",
       "2    -1.536794  0.293517  1.110941  1.333053       2.527057          1   \n",
       "3     0.501521  0.007457 -1.138838 -1.225848       0.807737          0   \n",
       "4     2.063884  0.388871 -0.817441  0.785728      -0.911583          1   \n",
       "\n",
       "   IsActiveMember  EstimatedSalary  Exited  Geography_Germany  \\\n",
       "0               1         0.021886       1                  0   \n",
       "1               1         0.216534       0                  0   \n",
       "2               0         0.240687       1                  0   \n",
       "3               0        -0.108918       0                  0   \n",
       "4               1        -0.365276       0                  0   \n",
       "\n",
       "   Geography_Spain  Gender_Male  \n",
       "0                0            0  \n",
       "1                1            0  \n",
       "2                0            0  \n",
       "3                0            0  \n",
       "4                1            0  "
      ]
     },
     "execution_count": 9,
     "metadata": {},
     "output_type": "execute_result"
    }
   ],
   "source": [
    "numeric = ['CreditScore', 'Age', 'Tenure', 'Balance','NumOfProducts','EstimatedSalary']\n",
    "scaler = StandardScaler()\n",
    "scaler.fit(data_ohe[numeric])\n",
    "\n",
    "data_ohe[numeric] = scaler.transform(data_ohe[numeric])\n",
    "\n",
    "data_ohe.head()"
   ]
  },
  {
   "cell_type": "markdown",
   "metadata": {},
   "source": [
    "### Segmentación de los datos"
   ]
  },
  {
   "cell_type": "markdown",
   "metadata": {},
   "source": [
    "Al contar solo con el conjunto de datos fuente se dividirá este en tres partes según la proporción 3:1:1, para los conjuntos de entrenamiento, validación y prueba, respectivamente."
   ]
  },
  {
   "cell_type": "code",
   "execution_count": 10,
   "metadata": {},
   "outputs": [],
   "source": [
    "features = data_ohe.drop(['Exited'], axis=1)\n",
    "target = data_ohe['Exited']\n",
    "\n",
    "# Primera división del dataset para obtener el conjunto de entrenamiento\n",
    "features_train, features_rest, target_train, target_rest = train_test_split(\n",
    "    features, target, test_size=0.4, random_state=12345)\n",
    "\n",
    "# Segunda división del dataset para obtener los conjuntos de validación y prueba\n",
    "features_valid, features_test, target_valid, target_test = train_test_split(\n",
    "    features_rest, target_rest, test_size=0.5, random_state=12345)"
   ]
  },
  {
   "cell_type": "code",
   "execution_count": 11,
   "metadata": {},
   "outputs": [
    {
     "name": "stdout",
     "output_type": "stream",
     "text": [
      "Tamaño de los conjuntos y su proporción con respecto al conjunto original:\n",
      "\n",
      "Conjunto de entrenamiento: 6000, 60.0%\n",
      "Conjunto de validación: 2000, 20.0%\n",
      "Conjunto de prueba: 2000, 20.0%\n",
      "Conjunto original: 10000, 100.0%\n"
     ]
    }
   ],
   "source": [
    "# Se comprueba el tamaño de los conjuntos resultantes\n",
    "print(\"Tamaño de los conjuntos y su proporción con respecto al conjunto original:\")\n",
    "print(\"\")\n",
    "print(f\"Conjunto de entrenamiento: {len(features_train)}, {len(features_train)/len(df):.1%}\")\n",
    "print(f\"Conjunto de validación: {len(features_valid)}, {len(features_valid)/len(df):.1%}\")\n",
    "print(f\"Conjunto de prueba: {len(features_test)}, {len(features_test)/len(df):.1%}\")\n",
    "print(f\"Conjunto original: {len(df)}, {len(df)/len(df):.1%}\")"
   ]
  },
  {
   "cell_type": "markdown",
   "metadata": {},
   "source": [
    "## Estudio del equilibrio de clases"
   ]
  },
  {
   "cell_type": "code",
   "execution_count": 12,
   "metadata": {},
   "outputs": [
    {
     "name": "stdout",
     "output_type": "stream",
     "text": [
      "0    0.7963\n",
      "1    0.2037\n",
      "Name: Exited, dtype: float64\n"
     ]
    },
    {
     "data": {
      "text/plain": [
       "<AxesSubplot:>"
      ]
     },
     "execution_count": 12,
     "metadata": {},
     "output_type": "execute_result"
    },
    {
     "data": {
      "image/png": "[encoded data removed]",
      "text/plain": [
       "<Figure size 432x288 with 1 Axes>"
      ]
     },
     "metadata": {
      "needs_background": "light"
     },
     "output_type": "display_data"
    }
   ],
   "source": [
    "class_frequency = data['Exited'].value_counts(normalize=True)\n",
    "print(class_frequency)\n",
    "class_frequency.plot(kind='bar')"
   ]
  },
  {
   "cell_type": "markdown",
   "metadata": {},
   "source": [
    "Se tiene una proporción de clases positivas frente a clases negativas de aproximadamente 1:4, con lo que se puede decir que las clases están desequilibradas."
   ]
  },
  {
   "cell_type": "markdown",
   "metadata": {},
   "source": [
    "## Modelos sin tomar en cuenta el desequilibrio"
   ]
  },
  {
   "cell_type": "markdown",
   "metadata": {},
   "source": [
    "### Árbol de decisión"
   ]
  },
  {
   "cell_type": "markdown",
   "metadata": {},
   "source": [
    "Se llama a la función DecisionTreeClassifier(). En los hiperparámetros se configura random_state=12345 y en un bucle se prueban distintos valores de max_depth (del 1 al 10) para conocer el que genere el modelo de mayor F1."
   ]
  },
  {
   "cell_type": "code",
   "execution_count": 13,
   "metadata": {},
   "outputs": [
    {
     "name": "stdout",
     "output_type": "stream",
     "text": [
      "F1 del mejor modelo en el conjunto de validación (max_depth = 9): 0.5786516853932585\n"
     ]
    }
   ],
   "source": [
    "best_model_dt = None\n",
    "best_f1_score_dt = 0\n",
    "best_depth = 0\n",
    "\n",
    "for depth in range(1,11):\n",
    "    \n",
    "    model = DecisionTreeClassifier(random_state=12345, max_depth=depth)\n",
    "    model.fit(features_train, target_train)\n",
    "    predicted_valid = model.predict(features_valid)\n",
    "    \n",
    "    f1_score_dt = f1_score(target_valid, predicted_valid)\n",
    "     \n",
    "    if f1_score_dt > best_f1_score_dt:\n",
    "        best_model_dt = model\n",
    "        best_f1_score_dt = f1_score_dt\n",
    "        best_depth_dt = depth\n",
    "print(f\"F1 del mejor modelo en el conjunto de validación (max_depth = {best_depth_dt}): {best_f1_score_dt}\")"
   ]
  },
  {
   "cell_type": "markdown",
   "metadata": {},
   "source": [
    "### Bosque aleatorio"
   ]
  },
  {
   "cell_type": "markdown",
   "metadata": {},
   "source": [
    "Se llama a la función RandomForestClassifier(). En los hiperparámetros se configura random_state=12345 y en un bucle anidado se prueban distintos valores de árboles o n_estimatores (del 10 a 50 en pasos de 10) y de max_depth (del 1 al 10) para conocer el que genere el modelo de mayor exactitud."
   ]
  },
  {
   "cell_type": "code",
   "execution_count": 14,
   "metadata": {},
   "outputs": [
    {
     "name": "stdout",
     "output_type": "stream",
     "text": [
      "F1 del mejor modelo en el conjunto de validación: 0.5800604229607251 n_estimators: 10 best_depth: 9\n"
     ]
    }
   ],
   "source": [
    "best_model_rf = None\n",
    "best_f1_score_rf = 0\n",
    "best_est = 0\n",
    "best_depth = 0\n",
    "for est in range(10, 51, 10): \n",
    "    for depth in range (1, 11):\n",
    "        model = RandomForestClassifier(random_state=12345, n_estimators=est, max_depth=depth) \n",
    "        model.fit(features_train, target_train)\n",
    "        predicted_valid = model.predict(features_valid)\n",
    "        f1_score_rf = f1_score(target_valid, predicted_valid) \n",
    "        if f1_score_rf > best_f1_score_rf:\n",
    "            best_model_rf = model\n",
    "            best_f1_score_rf = f1_score_rf\n",
    "            best_est = est\n",
    "            best_depth_rf = depth\n",
    "\n",
    "print(\"F1 del mejor modelo en el conjunto de validación:\", best_f1_score_rf, \"n_estimators:\", best_est, \"best_depth:\", best_depth_rf)\n"
   ]
  },
  {
   "cell_type": "markdown",
   "metadata": {},
   "source": [
    "### Regresión logística"
   ]
  },
  {
   "cell_type": "markdown",
   "metadata": {},
   "source": [
    "Se llama a la función LogisticRegression(). Se configura random_state=12345 y solver='liblinear'."
   ]
  },
  {
   "cell_type": "code",
   "execution_count": 15,
   "metadata": {},
   "outputs": [
    {
     "name": "stdout",
     "output_type": "stream",
     "text": [
      "F1 del modelo de regresión logística en el conjunto de validación: 0.33389544688026984\n"
     ]
    }
   ],
   "source": [
    "model = LogisticRegression(random_state=12345, solver='liblinear') \n",
    "model.fit(features_train, target_train)\n",
    "predicted_valid = model.predict(features_valid)\n",
    "f1_score_lr = f1_score(target_valid, predicted_valid)\n",
    "\n",
    "print(\"F1 del modelo de regresión logística en el conjunto de validación:\", f1_score_lr)"
   ]
  },
  {
   "cell_type": "markdown",
   "metadata": {},
   "source": [
    "### Conclusiones"
   ]
  },
  {
   "cell_type": "markdown",
   "metadata": {},
   "source": [
    "El modelo con el F1 más alto (F1 score= ~0.580) fue el de bosque aleatorio configurado con n_estimators=10 y max_depth=9. Con una pequeña diferencia le sigue el modelo de arbol de decisión (F1 score= ~0.579) configurado con max_depth=9. Por último se encuentra el modelo de regresión logística (F1 score= ~0.334). Se espera mejorar la calidad de los modelos corrigiendo el desequilibrio de clase."
   ]
  },
  {
   "cell_type": "markdown",
   "metadata": {},
   "source": [
    "## Mejoramiento de la calidad del modelo"
   ]
  },
  {
   "cell_type": "markdown",
   "metadata": {},
   "source": [
    "Para corregir el desequilibro de clases se utilizarán dos enfoques: el ajuste de peso de clases y el sobremuestreo. "
   ]
  },
  {
   "cell_type": "markdown",
   "metadata": {},
   "source": [
    "### Ajuste de peso de clases"
   ]
  },
  {
   "cell_type": "markdown",
   "metadata": {},
   "source": [
    "Mediante el ajuste de peso clases se busca equilibrar el peso de la clase de menor frecuencia, en este caso la positiva, con la de mayor frecuencia al especificar `class_weight='balanced'` en los modelos.\n",
    "\n",
    "Se entrenan nuevamente los modelos incluyendo este parámetro y el valor de los hiperparámetros encontrados en la sección anterior y se obtienen ls valores de F1 para los conjuntos de validación, entrenamiento y prueba de cada modelo."
   ]
  },
  {
   "cell_type": "code",
   "execution_count": 16,
   "metadata": {},
   "outputs": [
    {
     "name": "stdout",
     "output_type": "stream",
     "text": [
      "F1 del modelo en el conjunto de validación: 0.5338567222767419\n",
      "F1 del modelo en el conjunto de entrenamiento: 0.6862876254180602\n",
      "F1 del modelo en el conjunto de prueba: 0.5471877979027645\n"
     ]
    }
   ],
   "source": [
    "#Árbol de decisión\n",
    "model_dt2 = DecisionTreeClassifier(random_state=12345, max_depth=best_depth_dt, class_weight='balanced')\n",
    "model_dt2.fit(features_train, target_train)\n",
    "predicted_valid = model_dt2.predict(features_valid)\n",
    "predicted_train = model_dt2.predict(features_train)\n",
    "predicted_test = model_dt2.predict(features_test)\n",
    "f1_score_dt2 = f1_score(target_valid, predicted_valid)\n",
    "print(\"F1 del modelo en el conjunto de validación:\", f1_score_dt2)\n",
    "print(\"F1 del modelo en el conjunto de entrenamiento:\", f1_score(target_train, predicted_train))\n",
    "print(\"F1 del modelo en el conjunto de prueba:\", f1_score(target_test, predicted_test))"
   ]
  },
  {
   "cell_type": "code",
   "execution_count": 17,
   "metadata": {},
   "outputs": [
    {
     "name": "stdout",
     "output_type": "stream",
     "text": [
      "F1 del modelo en el conjunto de validación: 0.6035242290748899\n",
      "F1 del modelo en el conjunto de entrenamiento: 0.72480181200453\n",
      "F1 del modelo en el conjunto de prueba: 0.5745614035087719\n"
     ]
    }
   ],
   "source": [
    "#Bosque aleatorio\n",
    "model_rf2 = RandomForestClassifier(random_state=12345, n_estimators=best_est, max_depth=best_depth_rf, class_weight='balanced') \n",
    "model_rf2.fit(features_train, target_train)\n",
    "predicted_valid = model_rf2.predict(features_valid)\n",
    "predicted_train = model_rf2.predict(features_train)\n",
    "predicted_test = model_rf2.predict(features_test)\n",
    "f1_score_rf2 = f1_score(target_valid, predicted_valid)\n",
    "print(\"F1 del modelo en el conjunto de validación:\", f1_score_rf2)\n",
    "print(\"F1 del modelo en el conjunto de entrenamiento:\", f1_score(target_train, predicted_train))\n",
    "print(\"F1 del modelo en el conjunto de prueba:\", f1_score(target_test, predicted_test))"
   ]
  },
  {
   "cell_type": "code",
   "execution_count": 18,
   "metadata": {},
   "outputs": [
    {
     "name": "stdout",
     "output_type": "stream",
     "text": [
      "F1 del modelo de regresión logística en el conjunto de validación: 0.4888888888888888\n",
      "F1 del modelo de regresión logística en el conjunto de entrenamiento: 0.5\n",
      "F1 del modelo de regresión logística en el conjunto de prueba: 0.4797238999137188\n"
     ]
    }
   ],
   "source": [
    "#Regresión logística\n",
    "model_lr2 = LogisticRegression(random_state=12345, solver='liblinear', class_weight='balanced') \n",
    "model_lr2.fit(features_train, target_train)\n",
    "predicted_valid = model_lr2.predict(features_valid)\n",
    "predicted_train = model_lr2.predict(features_train)\n",
    "predicted_test = model_lr2.predict(features_test)\n",
    "f1_score_lr2 = f1_score(target_valid, predicted_valid)\n",
    "print(\"F1 del modelo de regresión logística en el conjunto de validación:\", f1_score_lr2)\n",
    "print(\"F1 del modelo de regresión logística en el conjunto de entrenamiento:\", f1_score(target_train, predicted_train))\n",
    "print(\"F1 del modelo de regresión logística en el conjunto de prueba:\", f1_score(target_test, predicted_test))"
   ]
  },
  {
   "cell_type": "markdown",
   "metadata": {},
   "source": [
    "Los resultados muestran que el modelo de bosque aleatorio y el de regresión logística mejoraron su F1 al realizar el ajuste de peso de clases con el conjunto de validación. Por su lado, el F1 del modelo de árbol de decisión se redujo en comparación al modelo que no toma en cuenta el desequilibrio.\n",
    "\n",
    "Con respecto a los valores de F1 entre los distintos conjuntos, los resultados muestran que el modelo de árbol de decisión como el de bosque aleatorio tienen un rendimiento consistente en los conjuntos de validación y prueba dado sus valores de F1 cercanos entre sí, lo que indica que el modelo generaliza de manera efectiva a datos no vistos y tiene un rendimiento similar en diferentes conjuntos de evaluación, lo mismo ocurre con el modelo de regresión logística. Sin embargo, las diferencias entre los F1 de los conjuntos de entrenamiento con los F1 de los conjuntos de validación y prueba podría sugerir cierto grado de sobreajuste. En el modelo de regresión logística, esta diferencia es más pequeña, lo que indica que generaliza adecuadamente dentro de su nivel de rendimiento."
   ]
  },
  {
   "cell_type": "markdown",
   "metadata": {},
   "source": [
    "### Sobremuestreo"
   ]
  },
  {
   "cell_type": "markdown",
   "metadata": {},
   "source": [
    "En vista de que la proporción de clases positivas frente a las clases negativas es de 1:4 aproximadamente, se utilizará el sobremuestreo para multiplicar la ocurrencia de clases positivas por 4 para igualar su frecuencia."
   ]
  },
  {
   "cell_type": "code",
   "execution_count": 19,
   "metadata": {},
   "outputs": [],
   "source": [
    "def upsample(features, target, repeat):\n",
    "    features_zeros = features_train[target_train == 0]\n",
    "    features_ones = features_train[target_train == 1]\n",
    "    target_zeros = target_train[target_train == 0]\n",
    "    target_ones = target_train[target_train == 1]\n",
    "    \n",
    "    features_upsampled = pd.concat([features_zeros] + [features_ones] * repeat)\n",
    "    target_upsampled = pd.concat([target_zeros] + [target_ones] * repeat)\n",
    "    \n",
    "    features_upsampled, target_upsampled = shuffle(features_upsampled, target_upsampled, random_state=12345)\n",
    "\n",
    "    return features_upsampled, target_upsampled\n",
    "\n",
    "features_upsampled, target_upsampled = upsample(\n",
    "    features_train, target_train, 4)"
   ]
  },
  {
   "cell_type": "markdown",
   "metadata": {},
   "source": [
    "A continuación, se aplica el sobremuestreo en cada uno de los modelos."
   ]
  },
  {
   "cell_type": "code",
   "execution_count": 20,
   "metadata": {},
   "outputs": [
    {
     "name": "stdout",
     "output_type": "stream",
     "text": [
      "F1 del modelo en el conjunto de validación: 0.5304518664047152\n",
      "F1 del modelo en el conjunto de entrenamiento: 0.6863073317710077\n",
      "F1 del modelo en el conjunto de prueba: 0.5487571701720841\n"
     ]
    }
   ],
   "source": [
    "#Árbol de decisión\n",
    "model_dt3 = DecisionTreeClassifier(random_state=12345, max_depth=best_depth_dt)\n",
    "model_dt3.fit(features_upsampled, target_upsampled)\n",
    "predicted_valid = model_dt3.predict(features_valid)\n",
    "predicted_train = model_dt3.predict(features_train)\n",
    "predicted_test = model_dt3.predict(features_test)\n",
    "f1_score_dt3 = f1_score(target_valid, predicted_valid)\n",
    "print(\"F1 del modelo en el conjunto de validación:\", f1_score_dt3)\n",
    "print(\"F1 del modelo en el conjunto de entrenamiento:\", f1_score(target_train, predicted_train))\n",
    "print(\"F1 del modelo en el conjunto de prueba:\", f1_score(target_test, predicted_test))"
   ]
  },
  {
   "cell_type": "code",
   "execution_count": 21,
   "metadata": {},
   "outputs": [
    {
     "name": "stdout",
     "output_type": "stream",
     "text": [
      "F1 del modelo en el conjunto de validación: 0.6063829787234043\n",
      "F1 del modelo en el conjunto de entrenamiento: 0.7402833272793315\n",
      "F1 del modelo en el conjunto de prueba: 0.5905759162303664\n"
     ]
    }
   ],
   "source": [
    "#Bosque aleatorio\n",
    "model_rf3 = RandomForestClassifier(random_state=12345, n_estimators=best_est, max_depth=best_depth_rf) \n",
    "model_rf3.fit(features_upsampled, target_upsampled)\n",
    "predicted_valid = model_rf3.predict(features_valid)\n",
    "predicted_train = model_rf3.predict(features_train)\n",
    "predicted_test = model_rf3.predict(features_test)\n",
    "f1_score_rf3 = f1_score(target_valid, predicted_valid)\n",
    "print(\"F1 del modelo en el conjunto de validación:\", f1_score_rf3)\n",
    "print(\"F1 del modelo en el conjunto de entrenamiento:\", f1_score(target_train, predicted_train))\n",
    "print(\"F1 del modelo en el conjunto de prueba:\", f1_score(target_test, predicted_test))"
   ]
  },
  {
   "cell_type": "code",
   "execution_count": 22,
   "metadata": {},
   "outputs": [
    {
     "name": "stdout",
     "output_type": "stream",
     "text": [
      "F1 del modelo de regresión logística en el conjunto de validación: 0.4888888888888888\n",
      "F1 del modelo de regresión logística en el conjunto de entrenamiento: 0.4997043169722058\n",
      "F1 del modelo de regresión logística en el conjunto de prueba: 0.4779220779220779\n"
     ]
    }
   ],
   "source": [
    "#Regresión logística\n",
    "model_lr3 = LogisticRegression(random_state=12345, solver='liblinear') \n",
    "model_lr3.fit(features_upsampled, target_upsampled)\n",
    "predicted_valid = model_lr3.predict(features_valid)\n",
    "predicted_train = model_lr3.predict(features_train)\n",
    "predicted_test = model_lr3.predict(features_test)\n",
    "f1_score_lr3 = f1_score(target_valid, predicted_valid)\n",
    "\n",
    "print(\"F1 del modelo de regresión logística en el conjunto de validación:\", f1_score_lr3)\n",
    "print(\"F1 del modelo de regresión logística en el conjunto de entrenamiento:\", f1_score(target_train, predicted_train))\n",
    "print(\"F1 del modelo de regresión logística en el conjunto de prueba:\", f1_score(target_test, predicted_test))"
   ]
  },
  {
   "cell_type": "markdown",
   "metadata": {},
   "source": [
    "El sobremuestreo produjo un ligero aumento del F1 para el modelo de bosque aleatorio con el conjunto de validación, mientras que para el modelo de árbol de decisión el F1 se redujo y para el modelo de regresión logística se mantuvo igual. Por lo tanto, solo existieron mejoras para el modelo de bosque aleatorio.\n",
    "\n",
    "Por su lado, los F1 entre los distintos conjuntos siguen el mismo comportamiento que con el caso del ajuste de pesos, el rendimiento es consistente entre los conjuntos de validación y prueba debido a sus F1 similares, mientras que su diferencia con los F1 de los conjuntos de entrenamiento sugieren cierto sobreajuste en los modelos de árbol de decisión y bosque aleatorio. La brecha sigue siendo menor en el caso del modelo de regresión logística. \n",
    "\n"
   ]
  },
  {
   "cell_type": "markdown",
   "metadata": {},
   "source": [
    "### Resumen"
   ]
  },
  {
   "cell_type": "markdown",
   "metadata": {},
   "source": [
    "Se crea una tabla que resume los resultados obtenidos con el conjunto de validación."
   ]
  },
  {
   "cell_type": "code",
   "execution_count": 23,
   "metadata": {},
   "outputs": [
    {
     "data": {
      "text/html": [
       "<div>\n",
       "<style scoped>\n",
       "    .dataframe tbody tr th:only-of-type {\n",
       "        vertical-align: middle;\n",
       "    }\n",
       "\n",
       "    .dataframe tbody tr th {\n",
       "        vertical-align: top;\n",
       "    }\n",
       "\n",
       "    .dataframe thead th {\n",
       "        text-align: right;\n",
       "    }\n",
       "</style>\n",
       "<table border=\"1\" class=\"dataframe\">\n",
       "  <thead>\n",
       "    <tr style=\"text-align: right;\">\n",
       "      <th></th>\n",
       "      <th>Desequilibrado</th>\n",
       "      <th>Ajuste de peso de clases</th>\n",
       "      <th>Sobremuestreo</th>\n",
       "    </tr>\n",
       "    <tr>\n",
       "      <th>Modelo</th>\n",
       "      <th></th>\n",
       "      <th></th>\n",
       "      <th></th>\n",
       "    </tr>\n",
       "  </thead>\n",
       "  <tbody>\n",
       "    <tr>\n",
       "      <th>Árbol de decisión</th>\n",
       "      <td>0.578652</td>\n",
       "      <td>0.533857</td>\n",
       "      <td>0.530452</td>\n",
       "    </tr>\n",
       "    <tr>\n",
       "      <th>Bosque aleatorio</th>\n",
       "      <td>0.580060</td>\n",
       "      <td>0.603524</td>\n",
       "      <td>0.606383</td>\n",
       "    </tr>\n",
       "    <tr>\n",
       "      <th>Regresión logística</th>\n",
       "      <td>0.333895</td>\n",
       "      <td>0.488889</td>\n",
       "      <td>0.488889</td>\n",
       "    </tr>\n",
       "  </tbody>\n",
       "</table>\n",
       "</div>"
      ],
      "text/plain": [
       "                     Desequilibrado  Ajuste de peso de clases  Sobremuestreo\n",
       "Modelo                                                                      \n",
       "Árbol de decisión          0.578652                  0.533857       0.530452\n",
       "Bosque aleatorio           0.580060                  0.603524       0.606383\n",
       "Regresión logística        0.333895                  0.488889       0.488889"
      ]
     },
     "execution_count": 23,
     "metadata": {},
     "output_type": "execute_result"
    }
   ],
   "source": [
    "f1_scores = {\n",
    "    'Modelo': ['Árbol de decisión', 'Bosque aleatorio', 'Regresión logística'],\n",
    "    'Desequilibrado': [best_f1_score_dt, best_f1_score_rf, f1_score_lr],\n",
    "    'Ajuste de peso de clases': [f1_score_dt2, f1_score_rf2, f1_score_lr2],\n",
    "    'Sobremuestreo': [f1_score_dt3, f1_score_rf3, f1_score_lr3]\n",
    "}\n",
    "\n",
    "\n",
    "f1_scores_df = pd.DataFrame(f1_scores)\n",
    "\n",
    "\n",
    "f1_scores_df.set_index('Modelo', inplace=True)\n",
    "\n",
    "\n",
    "f1_scores_df"
   ]
  },
  {
   "cell_type": "markdown",
   "metadata": {},
   "source": [
    "Los resultados indican que ambos enfoques para corregir el desequilibrio de clases aumentaron el F1 en los modelos de bosque aleatorio y de regresión logística. Para el modelo de árbol de decisión, ambos enfoques redujeron el F1. En el modelo de regresión logística, ambos enfoques aumentaron el F1 en la misma medida. El sobremuestreo en el modelo de bosque aleatorio produjo el mayor F1 de todos los modelos."
   ]
  },
  {
   "cell_type": "markdown",
   "metadata": {},
   "source": [
    "## Comprobación de la calidad del mejor modelo con el conjunto de prueba"
   ]
  },
  {
   "cell_type": "markdown",
   "metadata": {},
   "source": [
    "Al haber determinado el modelo con el mayor F1 (bosque aleatorio con sobremuestreo), se procede a evaluarlo con el conjunto de prueba que se segmentó anteriormente. Se obtiene también el valor de AUC-ROC."
   ]
  },
  {
   "cell_type": "code",
   "execution_count": 24,
   "metadata": {},
   "outputs": [
    {
     "name": "stdout",
     "output_type": "stream",
     "text": [
      "F1 del modelo en el conjunto de prueba: 0.5905759162303664\n",
      "AUC-ROC score: 0.841482390929901\n"
     ]
    }
   ],
   "source": [
    "# Se concatenan los conjuntos de entrenamiento y validación\n",
    "features_train_final=pd.concat([features_train] + [features_valid])\n",
    "target_train_final=pd.concat([target_train] + [target_valid])\n",
    "\n",
    "# Se realiza el sobremuestreo del conjunto final\n",
    "features_upsampled, target_upsampled = upsample(\n",
    "    features_train_final, target_train_final, 4)\n",
    "\n",
    "# Se entrena el modelo y se obtiene F1\n",
    "final_model = RandomForestClassifier(random_state=12345, max_depth=best_depth_rf, n_estimators=best_est)\n",
    "final_model.fit(features_upsampled, target_upsampled)\n",
    "predicted_test = final_model.predict(features_test)\n",
    "f1_score_final = f1_score(target_test, predicted_test)\n",
    "print(\"F1 del modelo en el conjunto de prueba:\", f1_score_final)\n",
    "\n",
    "#Se obtiene la probabilidad de clase y AUC-ROC\n",
    "probabilities_test = final_model.predict_proba(features_test)\n",
    "probabilities_one_test = probabilities_test[:, 1]\n",
    "auc_roc = roc_auc_score(target_test, probabilities_one_test)\n",
    "\n",
    "print(\"AUC-ROC score:\", auc_roc)"
   ]
  },
  {
   "cell_type": "markdown",
   "metadata": {},
   "source": [
    "Finalmente, se grafica la curva ROC para observar cómo varía la capacidad del modelo para distinguir entre las clases positiva y negativa a medida que se ajusta el umbral de clasificación."
   ]
  },
  {
   "cell_type": "code",
   "execution_count": 25,
   "metadata": {},
   "outputs": [
    {
     "data": {
      "image/png": "[encoded data removed]",
      "text/plain": [
       "<Figure size 432x288 with 1 Axes>"
      ]
     },
     "metadata": {
      "needs_background": "light"
     },
     "output_type": "display_data"
    }
   ],
   "source": [
    "fpr, tpr, thresholds = roc_curve(target_test, probabilities_one_test)\n",
    "\n",
    "plt.figure()\n",
    "plt.plot(fpr, tpr)\n",
    "plt.plot([0, 1], [0, 1], linestyle='--')\n",
    "plt.xlim([0.0, 1.0])\n",
    "plt.ylim([0.0, 1.0])\n",
    "plt.xlabel('Tasa de falsos positivos')\n",
    "plt.ylabel('Tasa de verdaderos positivos')\n",
    "plt.title('Curva ROC')\n",
    "plt.show()"
   ]
  },
  {
   "cell_type": "markdown",
   "metadata": {},
   "source": [
    "El F1 obtenido finalmente es de ~0.591, el cual es aceptable. El valor de AUC-ROC indica que el modelo tiene una buena capacidad para distinguir entre las clases positiva y negativa. Es decir, el modelo es capaz de clasificar correctamente una muestra aleatoria positiva en lugar de una negativa en un ~84% de los casos.\n",
    "\n",
    "Por su lado, la gráfica indica que el modelo tiene en general una buena sensibilidad (TPR) y una baja tasa de falsos positivos (FPR). Ya que la curva se acerca al ángulo superior izquierdo del gráfico y, como indica el valor AUC-ROC, se puede concluir que el modelo tiene un buen rendimiento. "
   ]
  }
 ],
 "metadata": {
  "kernelspec": {
   "display_name": "Python 3 (ipykernel)",
   "language": "python",
   "name": "python3"
  },
  "language_info": {
   "codemirror_mode": {
    "name": "ipython",
    "version": 3
   },
   "file_extension": ".py",
   "mimetype": "text/x-python",
   "name": "python",
   "nbconvert_exporter": "python",
   "pygments_lexer": "ipython3",
   "version": "3.9.5"
  },
  "toc": {
   "base_numbering": 1,
   "nav_menu": {},
   "number_sections": true,
   "sideBar": true,
   "skip_h1_title": true,
   "title_cell": "Table of Contents",
   "title_sidebar": "Contents",
   "toc_cell": false,
   "toc_position": {},
   "toc_section_display": true,
   "toc_window_display": false
  }
 },
 "nbformat": 4,
 "nbformat_minor": 2
}
