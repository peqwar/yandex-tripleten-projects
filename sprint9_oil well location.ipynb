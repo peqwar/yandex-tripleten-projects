{
 "cells": [
  {
   "cell_type": "markdown",
   "metadata": {},
   "source": [
    "# Determinación de la mejor ubicación para un nuevo pozo petrolero\n",
    "La compañía Oily Giant está buscando un nuevo lugar para establecer un pozo petrolero.\n"
   ]
  },
  {
   "cell_type": "markdown",
   "metadata": {},
   "source": [
    "**Tabla de contenidos**<a id='toc0_'></a>    \n",
    "- [Objetivos](#toc1_)    \n",
    "- [Exploración de los datos](#toc2_)    \n",
    "- [Preparación de los datos](#toc3_)    \n",
    "- [Entrenamiento y evaluación del modelo](#toc4_)    \n",
    "- [Cálculo de ganancias](#toc5_)    \n",
    "- [Cálculo de riesgos y ganancias para cada región](#toc6_)    \n",
    "- [Conclusiones](#toc7_)    \n",
    "\n",
    "<!-- vscode-jupyter-toc-config\n",
    "\tnumbering=false\n",
    "\tanchor=true\n",
    "\tflat=false\n",
    "\tminLevel=2\n",
    "\tmaxLevel=6\n",
    "\t/vscode-jupyter-toc-config -->\n",
    "<!-- THIS CELL WILL BE REPLACED ON TOC UPDATE. DO NOT WRITE YOUR TEXT IN THIS CELL -->"
   ]
  },
  {
   "cell_type": "markdown",
   "metadata": {},
   "source": [
    "\n",
    "## <a id='toc1_'></a>[Objetivos](#toc0_)\n",
    "- Entrenar un modelo de regresión lineal para predecir el volumen de petróleo que se puede extraer en un pozo en función de las características de este.\n",
    "- Analizar los beneficios y riesgos potenciales utilizando la técnica bootstrapping para cada región.\n",
    "- Seleccionar la región con el beneficio promedio más alto y un riesgo de pérdidas menor al 2.5%.\n",
    "\n",
    "## <a id='toc2_'></a>[Exploración de los datos](#toc0_)\n",
    "Se cuenta con tres datasets, uno por cada región. Cada dataset contiene 10.000 muestras de crudo. Para cada muestra se tiene información sobre la calidad del crudo y la cantidad de petróleo que se puede extraer en un pozo con esas características."
   ]
  },
  {
   "cell_type": "code",
   "execution_count": 198,
   "metadata": {},
   "outputs": [],
   "source": [
    "import pandas as pd\n",
    "import matplotlib.pyplot as plt\n",
    "from sklearn import linear_model\n",
    "from sklearn.metrics import mean_squared_error, r2_score\n",
    "from sklearn.model_selection import train_test_split\n",
    "from sklearn.preprocessing import StandardScaler"
   ]
  },
  {
   "cell_type": "code",
   "execution_count": 199,
   "metadata": {},
   "outputs": [],
   "source": [
    "try:\n",
    "    df0 = pd.read_csv('./datasets/geo_data_0.csv')\n",
    "    df1 = pd.read_csv('./datasets/geo_data_1.csv')\n",
    "    df2 = pd.read_csv('./datasets/geo_data_2.csv')\n",
    "except:\n",
    "    df0 = pd.read_csv('/datasets/geo_data_0.csv')\n",
    "    df1 = pd.read_csv('/datasets/geo_data_1.csv')\n",
    "    df2 = pd.read_csv('/datasets/geo_data_2.csv')"
   ]
  },
  {
   "cell_type": "code",
   "execution_count": 200,
   "metadata": {},
   "outputs": [
    {
     "name": "stdout",
     "output_type": "stream",
     "text": [
      "<class 'pandas.core.frame.DataFrame'>\n",
      "RangeIndex: 100000 entries, 0 to 99999\n",
      "Data columns (total 5 columns):\n",
      " #   Column   Non-Null Count   Dtype  \n",
      "---  ------   --------------   -----  \n",
      " 0   id       100000 non-null  object \n",
      " 1   f0       100000 non-null  float64\n",
      " 2   f1       100000 non-null  float64\n",
      " 3   f2       100000 non-null  float64\n",
      " 4   product  100000 non-null  float64\n",
      "dtypes: float64(4), object(1)\n",
      "memory usage: 3.8+ MB\n",
      "None\n",
      "<class 'pandas.core.frame.DataFrame'>\n",
      "RangeIndex: 100000 entries, 0 to 99999\n",
      "Data columns (total 5 columns):\n",
      " #   Column   Non-Null Count   Dtype  \n",
      "---  ------   --------------   -----  \n",
      " 0   id       100000 non-null  object \n",
      " 1   f0       100000 non-null  float64\n",
      " 2   f1       100000 non-null  float64\n",
      " 3   f2       100000 non-null  float64\n",
      " 4   product  100000 non-null  float64\n",
      "dtypes: float64(4), object(1)\n",
      "memory usage: 3.8+ MB\n",
      "None\n",
      "<class 'pandas.core.frame.DataFrame'>\n",
      "RangeIndex: 100000 entries, 0 to 99999\n",
      "Data columns (total 5 columns):\n",
      " #   Column   Non-Null Count   Dtype  \n",
      "---  ------   --------------   -----  \n",
      " 0   id       100000 non-null  object \n",
      " 1   f0       100000 non-null  float64\n",
      " 2   f1       100000 non-null  float64\n",
      " 3   f2       100000 non-null  float64\n",
      " 4   product  100000 non-null  float64\n",
      "dtypes: float64(4), object(1)\n",
      "memory usage: 3.8+ MB\n",
      "None\n"
     ]
    }
   ],
   "source": [
    "# Información general de los dataframes\n",
    "print(df0.info())\n",
    "print(df1.info())\n",
    "print(df2.info())"
   ]
  },
  {
   "cell_type": "markdown",
   "metadata": {},
   "source": [
    "Los datos muestran las siguientes columnas: \n",
    "- id — identificador único del pozo\n",
    "- f0, f1, f2 — tres características del punto\n",
    "- product — volumen de petróleo extraído del pozo (en miles de barriles)\n",
    "\n",
    "\n",
    "No existen valores nulos en los datasets y los tipos de datos son correctos."
   ]
  },
  {
   "cell_type": "markdown",
   "metadata": {},
   "source": [
    "## <a id='toc3_'></a>[Preparación de los datos](#toc0_)\n",
    "Se realizarán los siguiente pasos para preparar los datos: \n",
    "1. Seleccionar las columnas que se utilizarán para entrenar el modelo.\n",
    "2. Dividir los datos en un conjunto de entrenamiento y otro de validación.\n",
    "3. Escalar los datos utilizando el StandardScaler."
   ]
  },
  {
   "cell_type": "code",
   "execution_count": 201,
   "metadata": {},
   "outputs": [],
   "source": [
    "# Función para la preparación de los datos\n",
    "def data_prep(df):\n",
    "    \n",
    "    df.drop('id', axis=1, inplace=True)\n",
    "   \n",
    "    features = df.drop('product', axis=1)\n",
    "    target = df['product']\n",
    "    \n",
    "    features_train, features_valid, target_train, target_valid = train_test_split(\n",
    "        features, target, test_size=0.25, random_state=12345)\n",
    "    \n",
    "    scaler = StandardScaler()\n",
    "    numeric = ['f0', 'f1', 'f2']\n",
    "    scaler.fit(features_train[numeric])\n",
    "    features_train[numeric] = scaler.transform(features_train[numeric])\n",
    "    features_valid[numeric] = scaler.transform(features_valid[numeric])\n",
    "    return features_train, features_valid, target_train, target_valid"
   ]
  },
  {
   "cell_type": "code",
   "execution_count": 202,
   "metadata": {},
   "outputs": [],
   "source": [
    "# Llamada a la función data_prep para cada dataframe\n",
    "features_train0, features_valid0, target_train0, target_valid0 = data_prep(df0)\n",
    "features_train1, features_valid1, target_train1, target_valid1 = data_prep(df1)\n",
    "features_train2, features_valid2, target_train2, target_valid2 = data_prep(df2)\n"
   ]
  },
  {
   "cell_type": "code",
   "execution_count": 203,
   "metadata": {},
   "outputs": [
    {
     "name": "stdout",
     "output_type": "stream",
     "text": [
      "Tamaño de los conjuntos generados a partir de df0:\n",
      "\n",
      "Conjunto de entrenamiento: 75000, 75.0%\n",
      "Conjunto de validación: 25000, 25.0%\n",
      "Conjunto original: 100000, 100.0%\n"
     ]
    }
   ],
   "source": [
    "# Se comprueba el tamaño de los conjuntos resultantes para uno de los dataframes\n",
    "print(\"Tamaño de los conjuntos generados a partir de df0:\")\n",
    "print(\"\")\n",
    "print(f\"Conjunto de entrenamiento: {len(features_train0)}, {len(features_train0)/len(df0):.1%}\")\n",
    "print(f\"Conjunto de validación: {len(features_valid0)}, {len(features_valid0)/len(df0):.1%}\")\n",
    "print(f\"Conjunto original: {len(df0)}, {len(df0)/len(df0):.1%}\")"
   ]
  },
  {
   "cell_type": "code",
   "execution_count": 204,
   "metadata": {},
   "outputs": [
    {
     "data": {
      "text/html": [
       "<div>\n",
       "<style scoped>\n",
       "    .dataframe tbody tr th:only-of-type {\n",
       "        vertical-align: middle;\n",
       "    }\n",
       "\n",
       "    .dataframe tbody tr th {\n",
       "        vertical-align: top;\n",
       "    }\n",
       "\n",
       "    .dataframe thead th {\n",
       "        text-align: right;\n",
       "    }\n",
       "</style>\n",
       "<table border=\"1\" class=\"dataframe\">\n",
       "  <thead>\n",
       "    <tr style=\"text-align: right;\">\n",
       "      <th></th>\n",
       "      <th>f0</th>\n",
       "      <th>f1</th>\n",
       "      <th>f2</th>\n",
       "    </tr>\n",
       "  </thead>\n",
       "  <tbody>\n",
       "    <tr>\n",
       "      <th>27212</th>\n",
       "      <td>-0.544828</td>\n",
       "      <td>1.390264</td>\n",
       "      <td>-0.094959</td>\n",
       "    </tr>\n",
       "    <tr>\n",
       "      <th>7866</th>\n",
       "      <td>1.455912</td>\n",
       "      <td>-0.480422</td>\n",
       "      <td>1.209567</td>\n",
       "    </tr>\n",
       "    <tr>\n",
       "      <th>62041</th>\n",
       "      <td>0.260460</td>\n",
       "      <td>0.825069</td>\n",
       "      <td>-0.204865</td>\n",
       "    </tr>\n",
       "    <tr>\n",
       "      <th>70185</th>\n",
       "      <td>-1.837105</td>\n",
       "      <td>0.010321</td>\n",
       "      <td>-0.147634</td>\n",
       "    </tr>\n",
       "    <tr>\n",
       "      <th>82230</th>\n",
       "      <td>-1.299243</td>\n",
       "      <td>0.987558</td>\n",
       "      <td>1.273181</td>\n",
       "    </tr>\n",
       "  </tbody>\n",
       "</table>\n",
       "</div>"
      ],
      "text/plain": [
       "             f0        f1        f2\n",
       "27212 -0.544828  1.390264 -0.094959\n",
       "7866   1.455912 -0.480422  1.209567\n",
       "62041  0.260460  0.825069 -0.204865\n",
       "70185 -1.837105  0.010321 -0.147634\n",
       "82230 -1.299243  0.987558  1.273181"
      ]
     },
     "execution_count": 204,
     "metadata": {},
     "output_type": "execute_result"
    }
   ],
   "source": [
    "# Se revisan sus primeras filas\n",
    "features_train0.head()"
   ]
  },
  {
   "cell_type": "markdown",
   "metadata": {},
   "source": [
    "## <a id='toc4_'></a>[Entrenamiento y evaluación del modelo](#toc0_)\n",
    "Se entrenará un modelo de regresión lineal utilizando el conjunto de entrenamiento y se evaluará con el conjunto de validación utilizando como métricas el RMSE y el volumen promedio de las reservas previstas."
   ]
  },
  {
   "cell_type": "code",
   "execution_count": 205,
   "metadata": {},
   "outputs": [],
   "source": [
    "# Función para entrenar modelo de regresión lineal y predecir volúmenes\n",
    "def train_predict(features_train, features_valid, target_train, target_valid):\n",
    "    \n",
    "    model = linear_model.LinearRegression()\n",
    "    model.fit(features_train, target_train)\n",
    "   \n",
    "    predictions = model.predict(features_valid)\n",
    "    \n",
    "    mean_vol = predictions.mean()\n",
    "    \n",
    "    rmse = mean_squared_error(target_valid, predictions)**0.5\n",
    "   \n",
    "    print('Mean volume =', mean_vol)\n",
    "    print('RMSE =', rmse)\n",
    "    return predictions, mean_vol, rmse"
   ]
  },
  {
   "cell_type": "code",
   "execution_count": 206,
   "metadata": {
    "scrolled": true
   },
   "outputs": [
    {
     "name": "stdout",
     "output_type": "stream",
     "text": [
      "Region 0\n",
      "Mean volume = 92.59256778438035\n",
      "RMSE = 37.5794217150813\n",
      "Region 1\n",
      "Mean volume = 68.728546895446\n",
      "RMSE = 0.8930992867756168\n",
      "Region 2\n",
      "Mean volume = 94.96504596800489\n",
      "RMSE = 40.02970873393434\n"
     ]
    }
   ],
   "source": [
    "# Llamada a la función train_predict para el dataframe de cada región\n",
    "print('Region 0')\n",
    "predictions0, mean_vol0, mse0 = train_predict(\n",
    "    features_train0, features_valid0, target_train0, target_valid0)\n",
    "print('Region 1')\n",
    "predictions1, mean_vol1, mse1 = train_predict(\n",
    "    features_train1, features_valid1, target_train1, target_valid1)\n",
    "print('Region 2')\n",
    "predictions2, mean_vol2, mse2 = train_predict(\n",
    "    features_train2, features_valid2, target_train2, target_valid2)"
   ]
  },
  {
   "cell_type": "markdown",
   "metadata": {},
   "source": [
    "Los resultados indican que la región 2 tiene el mayor volumen promedio de reservas previstas, seguido, con poca diferencia, de la región 0. Sin embargo, ambas regiones tienen un RMSE alto, lo que indica una alta discrepancia entre los valores reales y los predichos. La región 1, por su lado, tiene el volumen promedio de reservas previstas más bajo, pero una mayor precisión en las predicciones, dado su bajo RMSE."
   ]
  },
  {
   "cell_type": "markdown",
   "metadata": {},
   "source": [
    "## <a id='toc5_'></a>[Cálculo de ganancias](#toc0_)\n",
    "\n",
    "Para cada región, se seleccionan los 200 mejores puntos para el cálculo de las ganancias. El presupuesto para el desarrollo de 200 pozos es de 100 millones de dólares.\n",
    "Un barril de materias primas genera 4.5 USD de ingresos. El ingreso de una unidad de producto es de 4500 dólares (el volumen de reservas está expresado en miles de barriles)."
   ]
  },
  {
   "cell_type": "code",
   "execution_count": 207,
   "metadata": {},
   "outputs": [
    {
     "name": "stdout",
     "output_type": "stream",
     "text": [
      "Profitable volume for a well: 111.11\n"
     ]
    }
   ],
   "source": [
    "wells_number = 200\n",
    "budget = 100_000_000\n",
    "budget_per_well = budget / wells_number\n",
    "reserve_revenue = 4500\n",
    "profitable_volume = budget_per_well / reserve_revenue\n",
    "print(f\"Profitable volume for a well: {profitable_volume:.2f}\")"
   ]
  },
  {
   "cell_type": "markdown",
   "metadata": {},
   "source": [
    "El volumen mínimo de reservas aceptable para el desarrollo de un pozo es de 111.11 miles de barriles. Este volumen es mayor que el volumen promedio de reservas previstas para las tres regiones. Por lo tanto, el próximo paso es seleccionar los pozos con los volúmenes de reservas previstas más altos."
   ]
  },
  {
   "cell_type": "code",
   "execution_count": 208,
   "metadata": {},
   "outputs": [],
   "source": [
    "'''\n",
    "Función para seleccionar los 200 pozos con las predicciones de volumen más altas\n",
    "y calcular sus ganancias\n",
    "'''\n",
    "def profit(predictions, target):\n",
    "    predictions = pd.Series(predictions)\n",
    "    \n",
    "    predictions_sorted = predictions.sort_values(ascending=False)\n",
    "   \n",
    "    selected = target.reset_index(drop=True)[predictions_sorted.index][:200]\n",
    "    \n",
    "    profit = selected.sum() * reserve_revenue - budget\n",
    "    return profit"
   ]
  },
  {
   "cell_type": "code",
   "execution_count": 209,
   "metadata": {},
   "outputs": [
    {
     "name": "stdout",
     "output_type": "stream",
     "text": [
      "Total profit of the selected top 200 wells\n",
      "Region 0: USD $33,208,260.43\n",
      "Region 1: USD $24,150,866.97\n",
      "Region 2: USD $27,103,499.64\n"
     ]
    }
   ],
   "source": [
    "# Llamada a la función profit para cada región\n",
    "profit0 = profit(predictions0, target_valid0)\n",
    "profit1 = profit(predictions1, target_valid1)\n",
    "profit2 = profit(predictions2, target_valid2)\n",
    "\n",
    "print('Total profit of the selected top 200 wells')\n",
    "print(f\"Region 0: USD ${profit0:,.2f}\")\n",
    "print(f\"Region 1: USD ${profit1:,.2f}\")\n",
    "print(f\"Region 2: USD ${profit2:,.2f}\")"
   ]
  },
  {
   "cell_type": "markdown",
   "metadata": {},
   "source": [
    "La Región 0 tiene el potencial de beneficio más alto considerando el volumen de reservas previstas y el presupuesto disponible. Por lo tanto, esta región podría ser la mejor opción para establecer el nuevo pozo petrolero."
   ]
  },
  {
   "cell_type": "markdown",
   "metadata": {},
   "source": [
    "## <a id='toc6_'></a>[Cálculo de riesgos y ganancias para cada región](#toc0_)\n",
    "\n",
    "Se utilizará la técnica bootstrapping para determinar los riesgos y ganancias potenciales para cada región. Se generarán 1000 muestras de los datos y se calcularán los ingresos de cada muestra.\n",
    "Encontraremos el promedio de los ingresos de las muestras de cada región y calcularemos su intervalo de confianza del 95%. Finalmente, determinaremos la probabilidad de obtener un ingreso negativo (riesgo)."
   ]
  },
  {
   "cell_type": "code",
   "execution_count": 210,
   "metadata": {},
   "outputs": [],
   "source": [
    "# función para calcular el ingreso promedio, el intervalo de confianza y el riesgo de pérdida\n",
    "\n",
    "def cal_profit_ci_risk(predictions, target):\n",
    "    state = np.random.RandomState(12345)\n",
    "    target = target.reset_index(drop=True)\n",
    "    values = []\n",
    "    for i in range(1000):\n",
    "        target_subsample = target.sample(n=500, replace=True, random_state=state)\n",
    "        probs_subsample = predictions[target_subsample.index]\n",
    "        values.append(profit(probs_subsample, target_subsample))\n",
    "    values = pd.Series(values)\n",
    "    lower = values.quantile(0.025)\n",
    "    upper = values.quantile(0.975)\n",
    "    mean_profit = values.mean()\n",
    "    risk = (values < 0).mean()\n",
    "    print(f\"Mean profit: USD ${mean_profit:,.2f}\")  #print(f\"Region 0: USD ${profit0:,.2f}\")\n",
    "    print(f\"95% confidence interval: {lower:.2f}, {upper:.2f}\")\n",
    "    print(f\"Risk of losses: {risk:.1%}\")\n",
    "    return values, mean_profit, lower, upper, risk"
   ]
  },
  {
   "cell_type": "code",
   "execution_count": 211,
   "metadata": {},
   "outputs": [
    {
     "name": "stdout",
     "output_type": "stream",
     "text": [
      "Region 0\n",
      "Mean profit: USD $3,961,649.85\n",
      "95% confidence interval: -1112155.46, 9097669.42\n",
      "Risk of losses: 6.9%\n",
      "\n",
      "Region 1\n",
      "Mean profit: USD $4,560,451.06\n",
      "95% confidence interval: 338205.09, 8522894.54\n",
      "Risk of losses: 1.5%\n",
      "\n",
      "Region 2\n",
      "Mean profit: USD $4,044,038.67\n",
      "95% confidence interval: -1633504.13, 9503595.75\n",
      "Risk of losses: 7.6%\n"
     ]
    }
   ],
   "source": [
    "# llamada a la función cal_profit_ci_risk para cada región\n",
    "print('Region 0')\n",
    "values0, mean0, lower0, upper0, risk0 = cal_profit_ci_risk(predictions0, target_valid0)\n",
    "print()\n",
    "print('Region 1')\n",
    "values1, mean1, lower1, upper1, risk1 = cal_profit_ci_risk(predictions1, target_valid1)\n",
    "print()\n",
    "print('Region 2')\n",
    "values2, mean2, lower2, upper2, risk2 = cal_profit_ci_risk(predictions2, target_valid2)"
   ]
  },
  {
   "cell_type": "code",
   "execution_count": 212,
   "metadata": {
    "scrolled": true
   },
   "outputs": [
    {
     "data": {
      "image/png": "[encoded data removed]",
      "text/plain": [
       "<Figure size 1500x500 with 3 Axes>"
      ]
     },
     "metadata": {},
     "output_type": "display_data"
    }
   ],
   "source": [
    "# Histograma de las ganancias para cada región\n",
    "fig, axes = plt.subplots(1, 3, figsize=(15, 5))\n",
    "values0.plot(kind='hist', bins=50, ax=axes[0], title='Region 0')\n",
    "values1.plot(kind='hist', bins=50, ax=axes[1], title='Region 1')\n",
    "values2.plot(kind='hist', bins=50, ax=axes[2], title='Region 2')\n",
    "x_min = min(values0.min(), values1.min(), values2.min())\n",
    "x_max = max(values0.max(), values1.max(), values2.max())\n",
    "for ax in axes:\n",
    "    ax.set_xlim(x_min, x_max)\n",
    "plt.show()"
   ]
  },
  {
   "cell_type": "markdown",
   "metadata": {},
   "source": [
    "De los histogramas se observa que la distribución de los ingresos para cada región se aproxima a una distribución normal y que, en general, los ingresos son positivos a pesar de que existen algunos valores negativos que representan pérdidas.\n"
   ]
  },
  {
   "cell_type": "markdown",
   "metadata": {},
   "source": [
    "## <a id='toc7_'></a>[Conclusiones](#toc0_)"
   ]
  },
  {
   "cell_type": "markdown",
   "metadata": {},
   "source": [
    "\n",
    "En promedio, la Región 1 tiene las mayores ganancias, con un valor de aproximadamente USD $4,560,451.06. Adicionalmente, su intervalo de confianza del 95% es el más estrecho, lo que indica una mayor precisión en la estimación del promedio de ganancias para esta región. Su riesgo de pérdidas es del 1.5%, siendo el único caso en que es menor al 2.5% requerido. En vista de estos resultados, se concluye que la Región 1 es la mejor opción para establecer el nuevo pozo petrolero."
   ]
  }
 ],
 "metadata": {
  "kernelspec": {
   "display_name": "Python 3 (ipykernel)",
   "language": "python",
   "name": "python3"
  },
  "language_info": {
   "codemirror_mode": {
    "name": "ipython",
    "version": 3
   },
   "file_extension": ".py",
   "mimetype": "text/x-python",
   "name": "python",
   "nbconvert_exporter": "python",
   "pygments_lexer": "ipython3",
   "version": "3.9.5"
  },
  "toc": {
   "base_numbering": 1,
   "nav_menu": {},
   "number_sections": true,
   "sideBar": true,
   "skip_h1_title": true,
   "title_cell": "Table of Contents",
   "title_sidebar": "Contents",
   "toc_cell": false,
   "toc_position": {},
   "toc_section_display": true,
   "toc_window_display": false
  }
 },
 "nbformat": 4,
 "nbformat_minor": 2
}
